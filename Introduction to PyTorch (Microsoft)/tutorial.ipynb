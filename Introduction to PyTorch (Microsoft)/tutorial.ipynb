{
 "cells": [
  {
   "cell_type": "markdown",
   "metadata": {},
   "source": [
    "# Reference :\n",
    "- https://learn.microsoft.com/en-us/training/modules/intro-machine-learning-pytorch/"
   ]
  },
  {
   "cell_type": "markdown",
   "metadata": {},
   "source": [
    "## loading and normalizing dataset"
   ]
  },
  {
   "cell_type": "code",
   "execution_count": 69,
   "metadata": {},
   "outputs": [],
   "source": [
    "%matplotlib inline\n",
    "import torch\n",
    "from torch.utils.data import Dataset\n",
    "from torchvision import datasets\n",
    "from torchvision.transforms import ToTensor, Lambda\n",
    "import matplotlib.pyplot as plt\n",
    "\n",
    "training_data = datasets.FashionMNIST(\n",
    "    root=\"data\",\n",
    "    train=True,\n",
    "    download=True,\n",
    "    transform=ToTensor()\n",
    ")\n",
    "\n",
    "test_data = datasets.FashionMNIST(\n",
    "    root=\"data\",\n",
    "    train=False,\n",
    "    download=True,\n",
    "    transform=ToTensor()\n",
    ")"
   ]
  },
  {
   "cell_type": "code",
   "execution_count": 70,
   "metadata": {},
   "outputs": [
    {
     "data": {
      "image/png": "[encoded data removed]",
      "text/plain": [
       "<Figure size 576x576 with 9 Axes>"
      ]
     },
     "metadata": {
      "needs_background": "light"
     },
     "output_type": "display_data"
    }
   ],
   "source": [
    "labels_map = {\n",
    "    0: \"T-Shirt\",\n",
    "    1: \"Trouser\",\n",
    "    2: \"Pullover\",\n",
    "    3: \"Dress\",\n",
    "    4: \"Coat\",\n",
    "    5: \"Sandal\",\n",
    "    6: \"Shirt\",\n",
    "    7: \"Sneaker\",\n",
    "    8: \"Bag\",\n",
    "    9: \"Ankle Boot\",\n",
    "}\n",
    "figure = plt.figure(figsize=(8, 8))\n",
    "cols, rows = 3, 3\n",
    "for i in range(1, cols * rows + 1):\n",
    "    sample_idx = torch.randint(len(training_data), size=(1,)).item()\n",
    "    img, label = training_data[sample_idx]\n",
    "    figure.add_subplot(rows, cols, i)\n",
    "    plt.title(labels_map[label])\n",
    "    plt.axis(\"off\")\n",
    "    plt.imshow(img.squeeze(), cmap=\"gray\")\n",
    "plt.show()"
   ]
  },
  {
   "cell_type": "code",
   "execution_count": 71,
   "metadata": {},
   "outputs": [],
   "source": [
    "from torch.utils.data import DataLoader\n",
    "\n",
    "train_dataloader = DataLoader(training_data, batch_size=64, shuffle=True)\n",
    "test_dataloader = DataLoader(test_data, batch_size=64, shuffle=True)"
   ]
  },
  {
   "cell_type": "code",
   "execution_count": 89,
   "metadata": {},
   "outputs": [
    {
     "data": {
      "text/plain": [
       "torch.Size([64, 1, 28, 28])"
      ]
     },
     "execution_count": 89,
     "metadata": {},
     "output_type": "execute_result"
    }
   ],
   "source": [
    "next(enumerate(train_dataloader))[1][0].shape"
   ]
  },
  {
   "cell_type": "code",
   "execution_count": 4,
   "metadata": {},
   "outputs": [
    {
     "name": "stdout",
     "output_type": "stream",
     "text": [
      "Feature batch shape: torch.Size([64, 1, 28, 28])\n",
      "Labels batch shape: torch.Size([64])\n"
     ]
    },
    {
     "data": {
      "image/png": "[encoded data removed]",
      "text/plain": [
       "<Figure size 432x288 with 1 Axes>"
      ]
     },
     "metadata": {
      "needs_background": "light"
     },
     "output_type": "display_data"
    },
    {
     "name": "stdout",
     "output_type": "stream",
     "text": [
      "Label: 4\n"
     ]
    }
   ],
   "source": [
    "train_features, train_labels = next(iter(train_dataloader))\n",
    "print(f\"Feature batch shape: {train_features.size()}\")\n",
    "print(f\"Labels batch shape: {train_labels.size()}\")\n",
    "img = train_features[0].squeeze()\n",
    "label = train_labels[0]\n",
    "plt.imshow(img, cmap=\"gray\")\n",
    "plt.show()\n",
    "print(f\"Label: {label}\")"
   ]
  },
  {
   "cell_type": "code",
   "execution_count": 5,
   "metadata": {},
   "outputs": [],
   "source": [
    "from torchvision import datasets\n",
    "from torchvision.transforms import ToTensor, Lambda\n",
    "\n",
    "ds = datasets.FashionMNIST(\n",
    "    root=\"data\",\n",
    "    train=True,\n",
    "    download=True,\n",
    "    transform=ToTensor(),\n",
    "    target_transform=Lambda(lambda y: torch.zeros(10, dtype=torch.float).scatter_(0, torch.tensor(y), value=1))\n",
    ")"
   ]
  },
  {
   "cell_type": "markdown",
   "metadata": {},
   "source": [
    "## Building Neural Network"
   ]
  },
  {
   "cell_type": "code",
   "execution_count": 6,
   "metadata": {},
   "outputs": [],
   "source": [
    "%matplotlib inline\n",
    "import os\n",
    "import torch\n",
    "from torch import nn\n",
    "from torch.utils.data import DataLoader\n",
    "from torchvision import datasets, transforms"
   ]
  },
  {
   "cell_type": "code",
   "execution_count": 7,
   "metadata": {},
   "outputs": [
    {
     "name": "stdout",
     "output_type": "stream",
     "text": [
      "Using cpu device\n"
     ]
    }
   ],
   "source": [
    "device = 'cuda' if torch.cuda.is_available() else 'cpu'\n",
    "print('Using {} device'.format(device))"
   ]
  },
  {
   "cell_type": "code",
   "execution_count": 8,
   "metadata": {},
   "outputs": [],
   "source": [
    "class NeuralNetwork(nn.Module):\n",
    "    def __init__(self):\n",
    "        super(NeuralNetwork, self).__init__()\n",
    "        self.flatten = nn.Flatten()\n",
    "        self.linear_relu_stack = nn.Sequential(\n",
    "            nn.Linear(28*28, 512),\n",
    "            nn.ReLU(),\n",
    "            nn.Linear(512, 512),\n",
    "            nn.ReLU(),\n",
    "            nn.Linear(512, 10),\n",
    "            nn.ReLU()\n",
    "        )\n",
    "\n",
    "    def forward(self, x):\n",
    "        x = self.flatten(x)\n",
    "        logits = self.linear_relu_stack(x)\n",
    "        return logits"
   ]
  },
  {
   "cell_type": "code",
   "execution_count": 16,
   "metadata": {},
   "outputs": [
    {
     "name": "stdout",
     "output_type": "stream",
     "text": [
      "NeuralNetwork(\n",
      "  (flatten): Flatten(start_dim=1, end_dim=-1)\n",
      "  (linear_relu_stack): Sequential(\n",
      "    (0): Linear(in_features=784, out_features=512, bias=True)\n",
      "    (1): ReLU()\n",
      "    (2): Linear(in_features=512, out_features=512, bias=True)\n",
      "    (3): ReLU()\n",
      "    (4): Linear(in_features=512, out_features=10, bias=True)\n",
      "    (5): ReLU()\n",
      "  )\n",
      ")\n"
     ]
    }
   ],
   "source": [
    "model = NeuralNetwork().to(device)\n",
    "print(model)"
   ]
  },
  {
   "cell_type": "code",
   "execution_count": 17,
   "metadata": {},
   "outputs": [
    {
     "name": "stdout",
     "output_type": "stream",
     "text": [
      "Predicted class: tensor([4])\n"
     ]
    }
   ],
   "source": [
    "X = torch.rand(1, 28, 28, device=device)\n",
    "logits = model(X) \n",
    "pred_probab = nn.Softmax(dim=1)(logits)\n",
    "y_pred = pred_probab.argmax(1)\n",
    "print(f\"Predicted class: {y_pred}\")"
   ]
  },
  {
   "cell_type": "code",
   "execution_count": 18,
   "metadata": {},
   "outputs": [
    {
     "name": "stdout",
     "output_type": "stream",
     "text": [
      "First Linear weights: Parameter containing:\n",
      "tensor([[ 9.9091e-03,  9.7859e-03,  7.6175e-03,  ...,  5.2250e-03,\n",
      "          1.8760e-02, -1.7149e-02],\n",
      "        [-5.5692e-03,  1.8924e-02,  2.5590e-02,  ..., -1.5114e-05,\n",
      "          2.8689e-02,  2.0210e-02],\n",
      "        [ 3.0271e-02,  2.3491e-02, -1.2654e-02,  ..., -1.6059e-02,\n",
      "          3.4402e-02,  2.1785e-02],\n",
      "        ...,\n",
      "        [ 1.6840e-02, -7.9234e-03,  9.4309e-03,  ..., -1.3419e-02,\n",
      "          2.7132e-02,  8.3427e-03],\n",
      "        [-2.1168e-02,  3.3056e-02, -2.4155e-02,  ..., -3.7349e-03,\n",
      "         -1.0109e-02,  2.3267e-02],\n",
      "        [ 4.9153e-03, -3.0535e-02,  1.0039e-02,  ..., -2.9283e-02,\n",
      "          1.7962e-02,  7.7884e-03]], requires_grad=True) \n",
      "\n",
      "First Linear weights: Parameter containing:\n",
      "tensor([ 3.3780e-02, -2.1466e-02,  2.3374e-02,  3.6330e-03, -4.5622e-03,\n",
      "        -2.2821e-03, -7.6983e-04,  3.8908e-03,  1.9092e-02, -3.3034e-02,\n",
      "         1.9019e-02,  2.5879e-02, -1.8795e-02, -1.5983e-02,  2.9079e-02,\n",
      "         1.1347e-03, -2.2715e-02,  2.5807e-02,  2.0650e-02, -3.5412e-02,\n",
      "         4.7660e-04, -2.6129e-02,  1.3915e-02,  2.3652e-02, -9.0738e-04,\n",
      "         2.0973e-03, -9.0554e-04,  2.9333e-02, -3.1247e-02,  5.8714e-04,\n",
      "        -1.9092e-02, -7.3341e-03, -1.5616e-03, -1.5410e-02,  1.1253e-02,\n",
      "        -3.0124e-02,  2.3365e-02,  1.8677e-03,  1.6612e-02,  9.2374e-03,\n",
      "        -1.6711e-03, -1.7778e-03, -3.1758e-03, -2.7377e-02,  1.8599e-02,\n",
      "         8.8478e-03,  1.0742e-02, -1.0978e-02,  2.1721e-02, -1.5418e-02,\n",
      "         2.4219e-02, -3.4848e-02, -1.1093e-02, -1.8847e-02,  8.3598e-03,\n",
      "        -6.0217e-04,  7.9680e-03,  3.4331e-03,  5.3375e-03, -1.0759e-02,\n",
      "        -2.8719e-02, -3.2302e-02,  3.5707e-02,  5.0367e-03,  2.3716e-03,\n",
      "         1.6469e-02,  2.4984e-02, -3.3391e-02,  2.3776e-02, -2.3628e-02,\n",
      "         2.4601e-03, -1.6201e-02, -1.6979e-02, -2.6111e-02, -1.0597e-02,\n",
      "         2.4332e-02, -2.4195e-02, -1.1641e-02,  1.5797e-02,  1.1969e-02,\n",
      "         1.4485e-02,  2.3940e-02, -2.7844e-03, -9.1863e-03,  2.3934e-02,\n",
      "        -3.4026e-02, -2.8295e-02, -3.0556e-02, -2.8191e-03, -9.3168e-03,\n",
      "         8.7839e-03, -1.8874e-02,  2.7409e-02, -1.2456e-03,  2.0098e-02,\n",
      "         2.9228e-02, -6.4900e-03, -1.3423e-02,  2.2055e-02,  1.7387e-02,\n",
      "         1.2392e-02, -2.3544e-02,  5.1311e-03, -8.2120e-03, -1.7320e-02,\n",
      "        -1.8901e-02,  2.1254e-02, -2.8366e-02,  1.3987e-02,  1.0589e-02,\n",
      "        -1.1798e-02,  1.9819e-02, -7.3122e-03, -1.9466e-02,  2.2286e-02,\n",
      "        -1.8529e-02,  2.6075e-03,  1.0103e-02,  7.8413e-03, -1.8862e-02,\n",
      "        -1.7708e-02,  2.5220e-02, -1.4821e-02, -6.8963e-03, -3.4666e-02,\n",
      "         1.1517e-02,  1.1543e-02,  1.6338e-02, -1.5601e-02, -1.3094e-02,\n",
      "        -2.3417e-02,  2.4323e-02,  5.5874e-03, -3.4668e-02, -2.9308e-02,\n",
      "         1.9949e-02, -2.5082e-03,  1.7624e-02, -1.1538e-02,  9.6285e-03,\n",
      "         3.3853e-03, -7.0918e-03,  1.9590e-02,  3.2052e-03,  2.5785e-02,\n",
      "         1.8812e-02, -2.4101e-02, -6.9816e-03,  3.2353e-02,  1.0003e-02,\n",
      "         1.2826e-02,  1.4812e-02, -8.0682e-03,  2.5392e-02,  3.5219e-05,\n",
      "        -1.6079e-02, -1.9767e-02, -2.1992e-02,  2.4202e-02, -1.1370e-02,\n",
      "        -2.1203e-02,  1.7142e-02, -2.5467e-02, -3.5010e-02, -1.8606e-02,\n",
      "         3.5641e-02,  1.4885e-02,  1.5983e-02,  8.9948e-03, -2.8138e-02,\n",
      "        -1.6056e-02,  1.3141e-03, -2.0436e-02, -1.4950e-02, -1.2994e-02,\n",
      "        -3.4296e-02, -3.8734e-03,  2.1633e-02, -3.0332e-02, -1.9589e-02,\n",
      "        -2.2762e-02,  1.4458e-02,  1.4414e-02,  1.2138e-02,  1.2761e-02,\n",
      "        -2.2974e-02,  2.2627e-02, -8.9575e-03, -1.2669e-02,  1.2942e-03,\n",
      "         5.1072e-03,  3.2710e-02, -1.8318e-02, -3.1149e-02,  1.5245e-02,\n",
      "        -3.2148e-02,  3.2408e-02,  1.0819e-02,  2.6961e-02, -4.6297e-03,\n",
      "        -1.2358e-03, -2.7278e-02,  2.1613e-02,  2.0131e-02,  3.4833e-02,\n",
      "        -3.0042e-02, -1.0944e-02,  2.2781e-02,  4.9053e-03, -2.5477e-03,\n",
      "        -2.6041e-02,  6.2273e-03,  9.8077e-03, -7.6822e-03,  2.9586e-02,\n",
      "        -8.2137e-03, -9.8298e-03, -2.6610e-02, -1.3623e-02,  2.7762e-02,\n",
      "        -4.8812e-03,  1.1900e-02,  2.8646e-02,  2.3178e-02, -1.1503e-03,\n",
      "         2.6457e-02,  8.6351e-03, -2.6418e-02,  2.8797e-02,  8.4760e-03,\n",
      "         1.7419e-02,  1.3045e-02,  3.1477e-02,  3.5007e-02,  1.1430e-04,\n",
      "         2.6927e-02, -2.7708e-02, -1.5982e-02,  2.2630e-02,  3.1515e-02,\n",
      "         2.2547e-02, -1.7359e-02,  6.0347e-03,  2.6327e-02, -1.6762e-02,\n",
      "        -3.2957e-02,  2.6733e-02, -2.6744e-02,  1.1495e-02,  1.4937e-02,\n",
      "         8.0487e-03,  2.3725e-02,  1.7105e-02,  2.0777e-02, -2.3585e-02,\n",
      "        -3.3242e-02,  2.8959e-02, -1.4045e-03, -1.1468e-02, -2.8129e-02,\n",
      "        -2.8353e-02,  6.7432e-03,  1.2901e-02,  2.5086e-02, -1.9577e-02,\n",
      "        -3.7223e-04,  2.2800e-02, -3.2231e-02, -1.4928e-02,  1.6634e-02,\n",
      "        -3.3265e-02,  2.9133e-04, -3.5667e-02,  2.9468e-02,  2.5972e-02,\n",
      "        -2.1969e-02,  8.5606e-03, -1.0516e-02,  3.2609e-02, -1.7744e-02,\n",
      "        -1.3176e-02,  1.5793e-02,  2.9716e-02, -2.3776e-02, -3.3498e-03,\n",
      "         1.1131e-02,  2.1914e-02,  6.6298e-03, -1.0002e-02,  1.1064e-02,\n",
      "         1.0009e-02,  1.4530e-02,  3.0558e-03,  1.4919e-02, -3.8478e-03,\n",
      "        -3.3704e-02, -2.8121e-02,  2.3898e-02,  1.1491e-02, -1.4872e-02,\n",
      "        -5.4065e-03, -2.9583e-02,  3.3262e-02,  6.2280e-03,  1.0581e-03,\n",
      "         2.0170e-02, -1.0126e-02,  1.3132e-02,  1.7740e-02,  3.0298e-02,\n",
      "        -1.3527e-02,  9.0845e-03, -3.9539e-03, -3.5121e-02, -3.3586e-02,\n",
      "         1.8846e-02,  2.1824e-02,  1.5393e-02,  2.0260e-02,  4.2823e-04,\n",
      "         2.2468e-03, -4.2117e-03,  9.9978e-03,  2.5954e-02, -1.6679e-02,\n",
      "        -1.6825e-03, -1.1515e-02,  8.3141e-05, -1.4855e-03, -1.5021e-03,\n",
      "         5.8420e-04,  2.2170e-02, -3.5225e-02,  1.0007e-02, -7.9149e-03,\n",
      "        -6.8527e-03, -2.8540e-04,  2.4375e-03, -2.7655e-02,  3.2595e-02,\n",
      "        -1.5312e-02,  1.1945e-02,  3.2735e-02,  1.9787e-02,  1.2396e-02,\n",
      "         3.1876e-02, -2.0592e-02, -3.1294e-02, -2.1841e-02,  1.2537e-02,\n",
      "         2.0439e-02,  1.0259e-02,  1.7729e-02,  3.5235e-02, -1.2877e-02,\n",
      "         1.9497e-02, -1.3851e-02, -7.4896e-03,  2.8785e-02, -2.5164e-02,\n",
      "         1.9237e-02,  2.9202e-02, -5.3096e-03, -3.5329e-02, -2.5898e-02,\n",
      "        -4.1289e-03,  2.8637e-02,  6.7133e-04,  1.4539e-02,  2.0197e-03,\n",
      "         3.1227e-02, -3.0410e-02,  3.2444e-02, -8.2481e-03,  1.1992e-02,\n",
      "         1.3336e-02,  3.0715e-02, -3.2994e-03,  1.4559e-02,  1.7507e-02,\n",
      "         3.3793e-02,  3.5714e-02,  3.3091e-02,  7.9012e-03, -1.7829e-02,\n",
      "         1.1559e-03,  3.5645e-02, -2.0219e-03, -1.2436e-02,  1.7685e-03,\n",
      "         2.7757e-02, -6.5613e-03, -3.6766e-03,  9.6257e-03, -1.2182e-02,\n",
      "         3.5133e-03, -3.5270e-02,  4.6173e-03,  3.1714e-02,  9.7402e-03,\n",
      "         2.1556e-02,  6.1013e-03, -3.2574e-02, -1.3960e-02, -2.6838e-02,\n",
      "        -2.9266e-02, -9.7296e-03, -2.1081e-02, -1.8803e-02, -2.5701e-03,\n",
      "        -4.0520e-03,  3.1110e-02, -2.9531e-02, -1.2134e-02, -3.1523e-02,\n",
      "         2.8444e-02, -5.6806e-03,  2.2593e-02, -1.1514e-02,  3.3250e-02,\n",
      "         2.3776e-03,  2.3090e-02,  1.9971e-02, -1.5365e-02,  6.8569e-03,\n",
      "        -2.2697e-02,  2.7461e-02,  2.3287e-02,  1.1819e-02,  2.5535e-02,\n",
      "        -4.7677e-04,  6.9956e-03, -1.5910e-02,  1.6606e-02, -1.0554e-02,\n",
      "        -2.1975e-02, -6.7102e-03, -7.9845e-03, -1.9358e-02, -1.2068e-02,\n",
      "        -2.4072e-02, -1.3726e-02,  2.5535e-02,  2.0796e-02, -2.6568e-02,\n",
      "         2.2169e-02,  1.5881e-03, -9.4793e-03, -2.0114e-02, -4.3176e-04,\n",
      "         3.5427e-02, -2.2681e-02,  7.2427e-03, -3.4007e-02,  8.2766e-03,\n",
      "         5.4260e-03, -3.0961e-02, -2.9233e-02,  7.6331e-05, -2.6143e-02,\n",
      "         9.8694e-03,  2.2088e-02, -1.6120e-03,  2.7511e-02, -5.6447e-03,\n",
      "         7.9622e-03, -3.5183e-02,  6.8987e-03,  2.5001e-02, -9.0211e-03,\n",
      "         1.4822e-02, -1.7829e-02,  8.4304e-03, -1.7467e-02, -1.4373e-02,\n",
      "        -1.5619e-02,  3.0564e-02,  1.3361e-02,  2.7779e-02,  9.8574e-03,\n",
      "         9.2263e-03,  3.4869e-02,  1.9022e-02,  1.8758e-02,  6.4842e-03,\n",
      "        -1.4300e-03,  4.0713e-03,  1.1500e-02,  3.5689e-02, -2.8237e-02,\n",
      "         3.3742e-02,  4.0627e-03, -1.1715e-02,  1.0042e-03, -2.5873e-02,\n",
      "        -3.4014e-02, -3.1398e-02,  3.2553e-02, -2.2862e-03, -2.6518e-02,\n",
      "        -1.9351e-02, -3.4929e-02, -1.4462e-02,  2.2895e-02, -2.6015e-02,\n",
      "        -1.0441e-02,  9.9380e-03,  1.0393e-03,  1.1777e-02,  2.1973e-02,\n",
      "         1.4500e-02, -2.7267e-02], requires_grad=True) \n",
      "\n"
     ]
    }
   ],
   "source": [
    "print(f\"First Linear weights: {model.linear_relu_stack[0].weight} \\n\")\n",
    "print(f\"First Linear weights: {model.linear_relu_stack[0].bias} \\n\")"
   ]
  },
  {
   "cell_type": "code",
   "execution_count": 19,
   "metadata": {},
   "outputs": [
    {
     "name": "stdout",
     "output_type": "stream",
     "text": [
      "torch.Size([3, 28, 28])\n"
     ]
    }
   ],
   "source": [
    "input_image = torch.rand(3,28,28)\n",
    "print(input_image.size())"
   ]
  },
  {
   "cell_type": "code",
   "execution_count": 20,
   "metadata": {},
   "outputs": [
    {
     "name": "stdout",
     "output_type": "stream",
     "text": [
      "torch.Size([3, 784])\n"
     ]
    }
   ],
   "source": [
    "flatten = nn.Flatten()\n",
    "flat_image = flatten(input_image)\n",
    "print(flat_image.size())"
   ]
  },
  {
   "cell_type": "code",
   "execution_count": 21,
   "metadata": {},
   "outputs": [
    {
     "name": "stdout",
     "output_type": "stream",
     "text": [
      "torch.Size([3, 20])\n"
     ]
    }
   ],
   "source": [
    "layer1 = nn.Linear(in_features=28*28, out_features=20)\n",
    "hidden1 = layer1(flat_image)\n",
    "print(hidden1.size())"
   ]
  },
  {
   "cell_type": "code",
   "execution_count": 22,
   "metadata": {},
   "outputs": [
    {
     "name": "stdout",
     "output_type": "stream",
     "text": [
      "Before ReLU: tensor([[ 0.2542,  0.5635, -0.2292,  0.0153, -0.2219, -0.0928, -0.4763,  0.3027,\n",
      "         -0.2613,  0.0212, -0.4127,  0.2160,  0.1100,  0.2682, -0.1851,  0.3266,\n",
      "          0.0560, -0.0408, -0.3195,  0.2978],\n",
      "        [-0.0262,  0.2989, -0.1244, -0.2589, -0.0803, -0.0605, -0.5848,  0.3359,\n",
      "         -0.2114, -0.0857, -0.2242,  0.2839,  0.0448,  0.2403, -0.1355, -0.0389,\n",
      "          0.0768, -0.1638, -0.6039,  0.1003],\n",
      "        [-0.0101,  0.2665, -0.0793, -0.1770, -0.0122, -0.2416, -0.6468,  0.3127,\n",
      "          0.1312, -0.2610, -0.2737,  0.4164,  0.0614,  0.2745, -0.3857,  0.1964,\n",
      "          0.1394,  0.2098, -0.5070, -0.0141]], grad_fn=<AddmmBackward0>)\n",
      "\n",
      "\n",
      "After ReLU: tensor([[0.2542, 0.5635, 0.0000, 0.0153, 0.0000, 0.0000, 0.0000, 0.3027, 0.0000,\n",
      "         0.0212, 0.0000, 0.2160, 0.1100, 0.2682, 0.0000, 0.3266, 0.0560, 0.0000,\n",
      "         0.0000, 0.2978],\n",
      "        [0.0000, 0.2989, 0.0000, 0.0000, 0.0000, 0.0000, 0.0000, 0.3359, 0.0000,\n",
      "         0.0000, 0.0000, 0.2839, 0.0448, 0.2403, 0.0000, 0.0000, 0.0768, 0.0000,\n",
      "         0.0000, 0.1003],\n",
      "        [0.0000, 0.2665, 0.0000, 0.0000, 0.0000, 0.0000, 0.0000, 0.3127, 0.1312,\n",
      "         0.0000, 0.0000, 0.4164, 0.0614, 0.2745, 0.0000, 0.1964, 0.1394, 0.2098,\n",
      "         0.0000, 0.0000]], grad_fn=<ReluBackward0>)\n"
     ]
    }
   ],
   "source": [
    "print(f\"Before ReLU: {hidden1}\\n\\n\")\n",
    "hidden1 = nn.ReLU()(hidden1)\n",
    "print(f\"After ReLU: {hidden1}\")"
   ]
  },
  {
   "cell_type": "code",
   "execution_count": 35,
   "metadata": {},
   "outputs": [
    {
     "name": "stdout",
     "output_type": "stream",
     "text": [
      "torch.Size([3, 10])\n",
      "tensor([[ 0.1649,  0.1294,  0.0882, -0.0894,  0.1912,  0.1596,  0.2108, -0.1052,\n",
      "          0.0648, -0.0037],\n",
      "        [ 0.2092,  0.1092,  0.1508,  0.0244,  0.2263,  0.2292,  0.1476, -0.1787,\n",
      "          0.0982, -0.0380],\n",
      "        [ 0.1935,  0.0684,  0.0717, -0.1112,  0.1926,  0.1626,  0.1674, -0.1106,\n",
      "          0.0335, -0.0706]], grad_fn=<AddmmBackward0>)\n",
      "tensor([[0.1081, 0.1044, 0.1001, 0.0839, 0.1110, 0.1076, 0.1132, 0.0825, 0.0978,\n",
      "         0.0914],\n",
      "        [0.1110, 0.1004, 0.1047, 0.0922, 0.1129, 0.1132, 0.1043, 0.0753, 0.0993,\n",
      "         0.0867],\n",
      "        [0.1136, 0.1002, 0.1005, 0.0837, 0.1135, 0.1101, 0.1106, 0.0838, 0.0968,\n",
      "         0.0872]], grad_fn=<SoftmaxBackward0>)\n"
     ]
    }
   ],
   "source": [
    "seq_modules = nn.Sequential(\n",
    "    flatten,\n",
    "    layer1,\n",
    "    nn.ReLU(),\n",
    "    nn.Linear(20, 10)\n",
    ")\n",
    "input_image = torch.rand(3,28,28)\n",
    "logits = seq_modules(input_image)\n",
    "print(logits.size())\n",
    "print(logits)\n",
    "\n",
    "softmax = nn.Softmax(dim=1)\n",
    "pred_probab = softmax(logits)\n",
    "print(pred_probab)"
   ]
  },
  {
   "cell_type": "code",
   "execution_count": 36,
   "metadata": {},
   "outputs": [
    {
     "name": "stdout",
     "output_type": "stream",
     "text": [
      "Model structure:  NeuralNetwork(\n",
      "  (flatten): Flatten(start_dim=1, end_dim=-1)\n",
      "  (linear_relu_stack): Sequential(\n",
      "    (0): Linear(in_features=784, out_features=512, bias=True)\n",
      "    (1): ReLU()\n",
      "    (2): Linear(in_features=512, out_features=512, bias=True)\n",
      "    (3): ReLU()\n",
      "    (4): Linear(in_features=512, out_features=10, bias=True)\n",
      "    (5): ReLU()\n",
      "  )\n",
      ") \n",
      "\n",
      "\n",
      "Layer: linear_relu_stack.0.weight | Size: torch.Size([512, 784]) | Values : tensor([[ 9.9091e-03,  9.7859e-03,  7.6175e-03,  ...,  5.2250e-03,\n",
      "          1.8760e-02, -1.7149e-02],\n",
      "        [-5.5692e-03,  1.8924e-02,  2.5590e-02,  ..., -1.5114e-05,\n",
      "          2.8689e-02,  2.0210e-02]], grad_fn=<SliceBackward0>) \n",
      "\n",
      "Layer: linear_relu_stack.0.bias | Size: torch.Size([512]) | Values : tensor([ 0.0338, -0.0215], grad_fn=<SliceBackward0>) \n",
      "\n",
      "Layer: linear_relu_stack.2.weight | Size: torch.Size([512, 512]) | Values : tensor([[-0.0385, -0.0223, -0.0027,  ...,  0.0222, -0.0214,  0.0145],\n",
      "        [-0.0036, -0.0186, -0.0384,  ..., -0.0058, -0.0211,  0.0286]],\n",
      "       grad_fn=<SliceBackward0>) \n",
      "\n",
      "Layer: linear_relu_stack.2.bias | Size: torch.Size([512]) | Values : tensor([-0.0259,  0.0135], grad_fn=<SliceBackward0>) \n",
      "\n",
      "Layer: linear_relu_stack.4.weight | Size: torch.Size([10, 512]) | Values : tensor([[ 0.0299, -0.0084, -0.0330,  ..., -0.0402,  0.0276,  0.0439],\n",
      "        [-0.0381, -0.0162, -0.0243,  ...,  0.0255, -0.0284, -0.0335]],\n",
      "       grad_fn=<SliceBackward0>) \n",
      "\n",
      "Layer: linear_relu_stack.4.bias | Size: torch.Size([10]) | Values : tensor([0.0061, 0.0383], grad_fn=<SliceBackward0>) \n",
      "\n"
     ]
    }
   ],
   "source": [
    "print(\"Model structure: \", model, \"\\n\\n\")\n",
    "\n",
    "for name, param in model.named_parameters():\n",
    "    print(f\"Layer: {name} | Size: {param.size()} | Values : {param[:2]} \\n\")"
   ]
  },
  {
   "cell_type": "markdown",
   "metadata": {},
   "source": [
    "## Automatic differentiation"
   ]
  },
  {
   "cell_type": "code",
   "execution_count": 48,
   "metadata": {},
   "outputs": [
    {
     "name": "stdout",
     "output_type": "stream",
     "text": [
      "tensor(0.5893, grad_fn=<BinaryCrossEntropyWithLogitsBackward0>)\n"
     ]
    }
   ],
   "source": [
    "%matplotlib inline\n",
    "import torch\n",
    "\n",
    "x = torch.ones(5)  # input tensor\n",
    "y = torch.zeros(3)  # expected output\n",
    "w = torch.randn(5, 3, requires_grad=True)\n",
    "b = torch.randn(3, requires_grad=True)\n",
    "z = torch.matmul(x, w)+b\n",
    "loss = torch.nn.functional.binary_cross_entropy_with_logits(z, y)\n",
    "print(loss)"
   ]
  },
  {
   "cell_type": "code",
   "execution_count": 49,
   "metadata": {},
   "outputs": [
    {
     "name": "stdout",
     "output_type": "stream",
     "text": [
      "Gradient function for z = <AddBackward0 object at 0x7fec54b2bac0>\n",
      "Gradient function for loss = <BinaryCrossEntropyWithLogitsBackward0 object at 0x7fec54b28b80>\n"
     ]
    }
   ],
   "source": [
    "print('Gradient function for z =',z.grad_fn)\n",
    "print('Gradient function for loss =', loss.grad_fn)"
   ]
  },
  {
   "cell_type": "code",
   "execution_count": 50,
   "metadata": {},
   "outputs": [
    {
     "name": "stdout",
     "output_type": "stream",
     "text": [
      "tensor([[0.0423, 0.1400, 0.2210],\n",
      "        [0.0423, 0.1400, 0.2210],\n",
      "        [0.0423, 0.1400, 0.2210],\n",
      "        [0.0423, 0.1400, 0.2210],\n",
      "        [0.0423, 0.1400, 0.2210]])\n",
      "tensor([0.0423, 0.1400, 0.2210])\n"
     ]
    }
   ],
   "source": [
    "# backward function computes the gradients on a loss funtion with respect to weights and biases and update the weight and bias tensors\n",
    "loss.backward()\n",
    "print(w.grad)\n",
    "print(b.grad)"
   ]
  },
  {
   "cell_type": "code",
   "execution_count": 53,
   "metadata": {},
   "outputs": [
    {
     "name": "stdout",
     "output_type": "stream",
     "text": [
      "True\n",
      "False\n",
      "====================================\n",
      "False\n"
     ]
    }
   ],
   "source": [
    "z = torch.matmul(x, w)+b\n",
    "print(z.requires_grad)\n",
    "\n",
    "with torch.no_grad():\n",
    "    z = torch.matmul(x, w)+b\n",
    "print(z.requires_grad)\n",
    "\n",
    "# or alternatively\n",
    "print(\"====================================\")\n",
    "z = torch.matmul(x, w)+b\n",
    "z_det = z.detach()\n",
    "print(z_det.requires_grad)"
   ]
  },
  {
   "cell_type": "markdown",
   "metadata": {},
   "source": [
    "## Learn about the optimization loop"
   ]
  },
  {
   "cell_type": "code",
   "execution_count": 90,
   "metadata": {},
   "outputs": [],
   "source": [
    "%matplotlib inline\n",
    "import torch\n",
    "from torch import nn\n",
    "from torch.utils.data import DataLoader\n",
    "from torchvision import datasets\n",
    "from torchvision.transforms import ToTensor, Lambda\n",
    "\n",
    "training_data = datasets.FashionMNIST(\n",
    "    root=\"data\",\n",
    "    train=True,\n",
    "    download=True,\n",
    "    transform=ToTensor()\n",
    ")\n",
    "\n",
    "test_data = datasets.FashionMNIST(\n",
    "    root=\"data\",\n",
    "    train=False,\n",
    "    download=True,\n",
    "    transform=ToTensor()\n",
    ")\n",
    "\n",
    "train_dataloader = DataLoader(training_data, batch_size=64)\n",
    "test_dataloader = DataLoader(test_data, batch_size=64)\n",
    "\n",
    "class NeuralNetwork(nn.Module):\n",
    "    def __init__(self):\n",
    "        super(NeuralNetwork, self).__init__()\n",
    "        self.flatten = nn.Flatten()\n",
    "        self.linear_relu_stack = nn.Sequential(\n",
    "            nn.Linear(28*28, 512),\n",
    "            nn.ReLU(),\n",
    "            nn.Linear(512, 512),\n",
    "            nn.ReLU(),\n",
    "            nn.Linear(512, 10),\n",
    "            nn.ReLU()\n",
    "        )\n",
    "\n",
    "    def forward(self, x):\n",
    "        x = self.flatten(x)\n",
    "        logits = self.linear_relu_stack(x)\n",
    "        return logits\n",
    "\n",
    "model = NeuralNetwork()"
   ]
  },
  {
   "cell_type": "code",
   "execution_count": 91,
   "metadata": {},
   "outputs": [],
   "source": [
    "learning_rate = 1e-3\n",
    "batch_size = 64\n",
    "epochs = 5"
   ]
  },
  {
   "cell_type": "code",
   "execution_count": 92,
   "metadata": {},
   "outputs": [],
   "source": [
    "# nn.MSELoss (Mean Square Error) used for regression tasks\n",
    "# nn.NLLLoss (Negative Log Likelihood) used for classification\n",
    "# nn.CrossEntropyLoss combines nn.LogSoftmax and nn.NLLLoss\n",
    "\n",
    "# Initialize the loss function\n",
    "loss_fn = nn.CrossEntropyLoss()"
   ]
  },
  {
   "cell_type": "code",
   "execution_count": 93,
   "metadata": {},
   "outputs": [],
   "source": [
    "# other optimizers are SGD, Adam, RMSProp\n",
    "optimizer = torch.optim.SGD(model.parameters(), lr=learning_rate)"
   ]
  },
  {
   "cell_type": "code",
   "execution_count": 94,
   "metadata": {},
   "outputs": [],
   "source": [
    "# in side train loop\n",
    "# -> Call optimizer.zero_grad() to reset the gradients of model parameters. Gradients by default add up; to prevent double-counting, we explicitly zero them at each iteration.\n",
    "# -> Back-propagate the prediction loss with a call to loss.backwards(). PyTorch deposits the gradients of the loss w.r.t. each parameter.\n",
    "# -> Once we have our gradients, we call optimizer.step() to adjust the parameters by the gradients collected in the backward pass.\n",
    "\n",
    "def train_loop(dataloader, model, loss_fn, optimizer):\n",
    "    size = len(dataloader.dataset)\n",
    "    for batch, (X, y) in enumerate(dataloader):        \n",
    "        # Compute prediction and loss\n",
    "        pred = model(X)\n",
    "        loss = loss_fn(pred, y)\n",
    "        \n",
    "        # Backpropagation\n",
    "        optimizer.zero_grad()\n",
    "        loss.backward()\n",
    "        optimizer.step()\n",
    "\n",
    "        if batch % 100 == 0:\n",
    "            loss, current = loss.item(), batch * len(X)\n",
    "            print(f\"loss: {loss:>7f}  [{current:>5d}/{size:>5d}]\")\n",
    "\n",
    "\n",
    "def test_loop(dataloader, model, loss_fn):\n",
    "    size = len(dataloader.dataset)\n",
    "    test_loss, correct = 0, 0\n",
    "\n",
    "    with torch.no_grad():\n",
    "        for X, y in dataloader:\n",
    "            pred = model(X)\n",
    "            test_loss += loss_fn(pred, y).item()\n",
    "            correct += (pred.argmax(1) == y).type(torch.float).sum().item()\n",
    "            \n",
    "    test_loss /= size\n",
    "    correct /= size\n",
    "    print(f\"Test Error: \\n Accuracy: {(100*correct):>0.1f}%, Avg loss: {test_loss:>8f} \\n\")"
   ]
  },
  {
   "cell_type": "code",
   "execution_count": 95,
   "metadata": {},
   "outputs": [
    {
     "name": "stdout",
     "output_type": "stream",
     "text": [
      "Epoch 1\n",
      "-------------------------------\n",
      "loss: 2.301890  [    0/60000]\n",
      "loss: 2.294067  [ 6400/60000]\n",
      "loss: 2.274738  [12800/60000]\n",
      "loss: 2.277969  [19200/60000]\n",
      "loss: 2.265482  [25600/60000]\n",
      "loss: 2.257512  [32000/60000]\n",
      "loss: 2.260378  [38400/60000]\n",
      "loss: 2.238212  [44800/60000]\n",
      "loss: 2.241933  [51200/60000]\n",
      "loss: 2.245267  [57600/60000]\n",
      "Test Error: \n",
      " Accuracy: 42.9%, Avg loss: 0.034875 \n",
      "\n",
      "Epoch 2\n",
      "-------------------------------\n",
      "loss: 2.218516  [    0/60000]\n",
      "loss: 2.218239  [ 6400/60000]\n",
      "loss: 2.163576  [12800/60000]\n",
      "loss: 2.192273  [19200/60000]\n",
      "loss: 2.162548  [25600/60000]\n",
      "loss: 2.155347  [32000/60000]\n",
      "loss: 2.164978  [38400/60000]\n",
      "loss: 2.114241  [44800/60000]\n",
      "loss: 2.149487  [51200/60000]\n",
      "loss: 2.155455  [57600/60000]\n",
      "Test Error: \n",
      " Accuracy: 45.7%, Avg loss: 0.032979 \n",
      "\n",
      "Epoch 3\n",
      "-------------------------------\n",
      "loss: 2.105192  [    0/60000]\n",
      "loss: 2.099288  [ 6400/60000]\n",
      "loss: 1.989496  [12800/60000]\n",
      "loss: 2.052700  [19200/60000]\n",
      "loss: 2.002184  [25600/60000]\n",
      "loss: 2.002129  [32000/60000]\n",
      "loss: 2.019870  [38400/60000]\n",
      "loss: 1.935526  [44800/60000]\n",
      "loss: 2.024816  [51200/60000]\n",
      "loss: 2.034568  [57600/60000]\n",
      "Test Error: \n",
      " Accuracy: 43.5%, Avg loss: 0.030403 \n",
      "\n",
      "Epoch 4\n",
      "-------------------------------\n",
      "loss: 1.956982  [    0/60000]\n",
      "loss: 1.946127  [ 6400/60000]\n",
      "loss: 1.776277  [12800/60000]\n",
      "loss: 1.882759  [19200/60000]\n",
      "loss: 1.832215  [25600/60000]\n",
      "loss: 1.847185  [32000/60000]\n",
      "loss: 1.848909  [38400/60000]\n",
      "loss: 1.757070  [44800/60000]\n",
      "loss: 1.881827  [51200/60000]\n",
      "loss: 1.873220  [57600/60000]\n",
      "Test Error: \n",
      " Accuracy: 45.8%, Avg loss: 0.027777 \n",
      "\n",
      "Epoch 5\n",
      "-------------------------------\n",
      "loss: 1.805406  [    0/60000]\n",
      "loss: 1.795875  [ 6400/60000]\n",
      "loss: 1.593102  [12800/60000]\n",
      "loss: 1.696165  [19200/60000]\n",
      "loss: 1.674598  [25600/60000]\n",
      "loss: 1.715138  [32000/60000]\n",
      "loss: 1.656390  [38400/60000]\n",
      "loss: 1.605849  [44800/60000]\n",
      "loss: 1.726466  [51200/60000]\n",
      "loss: 1.690005  [57600/60000]\n",
      "Test Error: \n",
      " Accuracy: 54.8%, Avg loss: 0.025386 \n",
      "\n",
      "Done!\n"
     ]
    }
   ],
   "source": [
    "loss_fn = nn.CrossEntropyLoss()\n",
    "optimizer = torch.optim.SGD(model.parameters(), lr=learning_rate)\n",
    "\n",
    "epochs = 5\n",
    "for t in range(epochs):\n",
    "    print(f\"Epoch {t+1}\\n-------------------------------\")\n",
    "    train_loop(train_dataloader, model, loss_fn, optimizer)\n",
    "    test_loop(test_dataloader, model, loss_fn)\n",
    "print(\"Done!\")"
   ]
  },
  {
   "cell_type": "code",
   "execution_count": 96,
   "metadata": {},
   "outputs": [
    {
     "name": "stdout",
     "output_type": "stream",
     "text": [
      "Saved PyTorch Model State to model.pth\n"
     ]
    }
   ],
   "source": [
    "torch.save(model.state_dict(), \"data/model.pth\")\n",
    "\n",
    "print(\"Saved PyTorch Model State to model.pth\")"
   ]
  },
  {
   "cell_type": "markdown",
   "metadata": {},
   "source": [
    "## Load and run model predictions"
   ]
  },
  {
   "cell_type": "code",
   "execution_count": 98,
   "metadata": {},
   "outputs": [],
   "source": [
    "%matplotlib inline\n",
    "import torch\n",
    "import onnxruntime\n",
    "from torch import nn\n",
    "import torch.onnx as onnx\n",
    "import torchvision.models as models\n",
    "from torchvision import datasets\n",
    "from torchvision.transforms import ToTensor"
   ]
  },
  {
   "cell_type": "code",
   "execution_count": 99,
   "metadata": {},
   "outputs": [],
   "source": [
    "class NeuralNetwork(nn.Module):\n",
    "    def __init__(self):\n",
    "        super(NeuralNetwork, self).__init__()\n",
    "        self.flatten = nn.Flatten()\n",
    "        self.linear_relu_stack = nn.Sequential(\n",
    "            nn.Linear(28*28, 512),\n",
    "            nn.ReLU(),\n",
    "            nn.Linear(512, 512),\n",
    "            nn.ReLU(),\n",
    "            nn.Linear(512, 10),\n",
    "            nn.ReLU()\n",
    "        )\n",
    "\n",
    "    def forward(self, x):\n",
    "        x = self.flatten(x)\n",
    "        logits = self.linear_relu_stack(x)\n",
    "        return logits"
   ]
  },
  {
   "cell_type": "code",
   "execution_count": 103,
   "metadata": {},
   "outputs": [
    {
     "data": {
      "text/plain": [
       "NeuralNetwork(\n",
       "  (flatten): Flatten(start_dim=1, end_dim=-1)\n",
       "  (linear_relu_stack): Sequential(\n",
       "    (0): Linear(in_features=784, out_features=512, bias=True)\n",
       "    (1): ReLU()\n",
       "    (2): Linear(in_features=512, out_features=512, bias=True)\n",
       "    (3): ReLU()\n",
       "    (4): Linear(in_features=512, out_features=10, bias=True)\n",
       "    (5): ReLU()\n",
       "  )\n",
       ")"
      ]
     },
     "execution_count": 103,
     "metadata": {},
     "output_type": "execute_result"
    }
   ],
   "source": [
    "model = NeuralNetwork()\n",
    "model.load_state_dict(torch.load('data/model.pth'))\n",
    "model.eval()\n",
    "# Note: Be sure to call model.eval() method before inferencing to set the dropout and batch normalization layers to evaluation mode. Failing to do this will yield inconsistent inference results."
   ]
  },
  {
   "cell_type": "markdown",
   "metadata": {},
   "source": [
    "### Exporting the model to ONNX\n"
   ]
  },
  {
   "cell_type": "code",
   "execution_count": 104,
   "metadata": {},
   "outputs": [
    {
     "name": "stdout",
     "output_type": "stream",
     "text": [
      "============= Diagnostic Run torch.onnx.export version 2.0.0+cu117 =============\n",
      "verbose: False, log level: Level.ERROR\n",
      "======================= 0 NONE 0 NOTE 0 WARNING 0 ERROR ========================\n",
      "\n"
     ]
    }
   ],
   "source": [
    "input_image = torch.zeros((1,28,28))\n",
    "onnx_model = 'data/model.onnx'\n",
    "onnx.export(model, input_image, onnx_model)"
   ]
  },
  {
   "cell_type": "code",
   "execution_count": 107,
   "metadata": {},
   "outputs": [],
   "source": [
    "test_data = datasets.FashionMNIST(\n",
    "    root=\"data\",\n",
    "    train=False,\n",
    "    download=True,\n",
    "    transform=ToTensor()\n",
    ")\n",
    "\n",
    "classes = [\n",
    "    \"T-shirt/top\",\n",
    "    \"Trouser\",\n",
    "    \"Pullover\",\n",
    "    \"Dress\",\n",
    "    \"Coat\",\n",
    "    \"Sandal\",\n",
    "    \"Shirt\",\n",
    "    \"Sneaker\",\n",
    "    \"Bag\",\n",
    "    \"Ankle boot\",\n",
    "]\n",
    "x, y = test_data[0][0], test_data[0][1]"
   ]
  },
  {
   "cell_type": "code",
   "execution_count": 108,
   "metadata": {},
   "outputs": [
    {
     "name": "stdout",
     "output_type": "stream",
     "text": [
      "Predicted: \"Ankle boot\", Actual: \"Ankle boot\"\n"
     ]
    }
   ],
   "source": [
    "session = onnxruntime.InferenceSession(onnx_model, None)\n",
    "input_name = session.get_inputs()[0].name\n",
    "output_name = session.get_outputs()[0].name\n",
    "\n",
    "result = session.run([output_name], {input_name: x.numpy()})\n",
    "predicted, actual = classes[result[0][0].argmax(0)], classes[y]\n",
    "print(f'Predicted: \"{predicted}\", Actual: \"{actual}\"')"
   ]
  },
  {
   "cell_type": "markdown",
   "metadata": {},
   "source": [
    "## The full model building process"
   ]
  },
  {
   "cell_type": "code",
   "execution_count": 109,
   "metadata": {},
   "outputs": [],
   "source": [
    "%matplotlib inline\n",
    "import torch\n",
    "from torch import nn\n",
    "from torch.utils.data import DataLoader\n",
    "from torchvision import datasets\n",
    "from torchvision.transforms import ToTensor, Lambda, Compose\n",
    "import matplotlib.pyplot as plt"
   ]
  },
  {
   "cell_type": "code",
   "execution_count": 110,
   "metadata": {},
   "outputs": [],
   "source": [
    "# Download training data from open datasets.\n",
    "training_data = datasets.FashionMNIST(\n",
    "    root=\"data\",\n",
    "    train=True,\n",
    "    download=True,\n",
    "    transform=ToTensor(),\n",
    ")\n",
    "\n",
    "# Download test data from open datasets.\n",
    "test_data = datasets.FashionMNIST(\n",
    "    root=\"data\",\n",
    "    train=False,\n",
    "    download=True,\n",
    "    transform=ToTensor(),\n",
    ")"
   ]
  },
  {
   "cell_type": "code",
   "execution_count": 111,
   "metadata": {},
   "outputs": [
    {
     "name": "stdout",
     "output_type": "stream",
     "text": [
      "Shape of X [N, C, H, W]:  torch.Size([64, 1, 28, 28])\n",
      "Shape of y:  torch.Size([64]) torch.int64\n"
     ]
    },
    {
     "data": {
      "image/png": "[encoded data removed]",
      "text/plain": [
       "<Figure size 720x576 with 25 Axes>"
      ]
     },
     "metadata": {
      "needs_background": "light"
     },
     "output_type": "display_data"
    }
   ],
   "source": [
    "batch_size = 64\n",
    "\n",
    "# Create data loaders.\n",
    "train_dataloader = DataLoader(training_data, batch_size=batch_size)\n",
    "test_dataloader = DataLoader(test_data, batch_size=batch_size)\n",
    "\n",
    "for X, y in test_dataloader:\n",
    "    print(\"Shape of X [N, C, H, W]: \", X.shape)\n",
    "    print(\"Shape of y: \", y.shape, y.dtype)\n",
    "    break\n",
    "    \n",
    "# Display sample data\n",
    "figure = plt.figure(figsize=(10, 8))\n",
    "cols, rows = 5, 5\n",
    "for i in range(1, cols * rows + 1):\n",
    "    idx = torch.randint(len(test_data), size=(1,)).item()\n",
    "    img, label = test_data[idx]\n",
    "    figure.add_subplot(rows, cols, i)\n",
    "    plt.title(label)\n",
    "    plt.axis(\"off\")\n",
    "    plt.imshow(img.squeeze(), cmap=\"gray\")\n",
    "plt.show()"
   ]
  },
  {
   "cell_type": "code",
   "execution_count": 112,
   "metadata": {},
   "outputs": [
    {
     "name": "stdout",
     "output_type": "stream",
     "text": [
      "Using cpu device\n",
      "NeuralNetwork(\n",
      "  (flatten): Flatten(start_dim=1, end_dim=-1)\n",
      "  (linear_relu_stack): Sequential(\n",
      "    (0): Linear(in_features=784, out_features=512, bias=True)\n",
      "    (1): ReLU()\n",
      "    (2): Linear(in_features=512, out_features=512, bias=True)\n",
      "    (3): ReLU()\n",
      "    (4): Linear(in_features=512, out_features=10, bias=True)\n",
      "    (5): ReLU()\n",
      "  )\n",
      ")\n"
     ]
    }
   ],
   "source": [
    "# Get cpu or gpu device for training.\n",
    "device = \"cuda\" if torch.cuda.is_available() else \"cpu\"\n",
    "print(\"Using {} device\".format(device))\n",
    "\n",
    "# Define model\n",
    "class NeuralNetwork(nn.Module):\n",
    "    def __init__(self):\n",
    "        super(NeuralNetwork, self).__init__()\n",
    "        self.flatten = nn.Flatten()\n",
    "        self.linear_relu_stack = nn.Sequential(\n",
    "            nn.Linear(28*28, 512),\n",
    "            nn.ReLU(),\n",
    "            nn.Linear(512, 512),\n",
    "            nn.ReLU(),\n",
    "            nn.Linear(512, 10),\n",
    "            nn.ReLU()\n",
    "        )\n",
    "\n",
    "    def forward(self, x):\n",
    "        x = self.flatten(x)\n",
    "        logits = self.linear_relu_stack(x)\n",
    "        return logits\n",
    "\n",
    "model = NeuralNetwork().to(device)\n",
    "print(model)"
   ]
  },
  {
   "cell_type": "code",
   "execution_count": 113,
   "metadata": {},
   "outputs": [],
   "source": [
    "loss_fn = nn.CrossEntropyLoss()\n",
    "learning_rate = 1e-3\n",
    "optimizer = torch.optim.SGD(model.parameters(), lr=learning_rate)"
   ]
  },
  {
   "cell_type": "code",
   "execution_count": 116,
   "metadata": {},
   "outputs": [],
   "source": [
    "def train(dataloader, model, loss_fn, optimizer):\n",
    "    size = len(dataloader.dataset)\n",
    "    for batch, (X, y) in enumerate(dataloader):\n",
    "        X, y = X.to(device), y.to(device)\n",
    "        \n",
    "        # Compute prediction error\n",
    "        pred = model(X)\n",
    "        loss = loss_fn(pred, y)\n",
    "        \n",
    "        # Backpropagation\n",
    "        optimizer.zero_grad()\n",
    "        loss.backward()\n",
    "        optimizer.step()\n",
    "\n",
    "        if batch % 100 == 0:\n",
    "            loss, current = loss.item(), batch * len(X)\n",
    "            print(f\"loss: {loss:>7f}  [{current:>5d}/{size:>5d}]\")"
   ]
  },
  {
   "cell_type": "code",
   "execution_count": 117,
   "metadata": {},
   "outputs": [],
   "source": [
    "def test(dataloader, model):\n",
    "    size = len(dataloader.dataset)\n",
    "    model.eval()\n",
    "    test_loss, correct = 0, 0\n",
    "    with torch.no_grad():\n",
    "        for X, y in dataloader:\n",
    "            X, y = X.to(device), y.to(device)\n",
    "            pred = model(X)\n",
    "            test_loss += loss_fn(pred, y).item()\n",
    "            correct += (pred.argmax(1) == y).type(torch.float).sum().item()\n",
    "    test_loss /= size\n",
    "    correct /= size\n",
    "    print(f\"Test Error: \\n Accuracy: {(100*correct):>0.1f}%, Avg loss: {test_loss:>8f} \\n\")"
   ]
  },
  {
   "cell_type": "code",
   "execution_count": 118,
   "metadata": {},
   "outputs": [
    {
     "name": "stdout",
     "output_type": "stream",
     "text": [
      "Epoch 1\n",
      "-------------------------------\n",
      "loss: 2.297073  [    0/60000]\n",
      "loss: 2.294230  [ 6400/60000]\n",
      "loss: 2.279253  [12800/60000]\n",
      "loss: 2.285064  [19200/60000]\n",
      "loss: 2.275749  [25600/60000]\n",
      "loss: 2.246603  [32000/60000]\n",
      "loss: 2.283013  [38400/60000]\n",
      "loss: 2.253584  [44800/60000]\n",
      "loss: 2.243280  [51200/60000]\n",
      "loss: 2.236413  [57600/60000]\n",
      "Test Error: \n",
      " Accuracy: 31.5%, Avg loss: 0.035113 \n",
      "\n",
      "Epoch 2\n",
      "-------------------------------\n",
      "loss: 2.222998  [    0/60000]\n",
      "loss: 2.221228  [ 6400/60000]\n",
      "loss: 2.197235  [12800/60000]\n",
      "loss: 2.241366  [19200/60000]\n",
      "loss: 2.188556  [25600/60000]\n",
      "loss: 2.148303  [32000/60000]\n",
      "loss: 2.226811  [38400/60000]\n",
      "loss: 2.167772  [44800/60000]\n",
      "loss: 2.160862  [51200/60000]\n",
      "loss: 2.161058  [57600/60000]\n",
      "Test Error: \n",
      " Accuracy: 35.2%, Avg loss: 0.033762 \n",
      "\n",
      "Epoch 3\n",
      "-------------------------------\n",
      "loss: 2.116740  [    0/60000]\n",
      "loss: 2.110491  [ 6400/60000]\n",
      "loss: 2.072064  [12800/60000]\n",
      "loss: 2.179339  [19200/60000]\n",
      "loss: 2.045268  [25600/60000]\n",
      "loss: 2.006029  [32000/60000]\n",
      "loss: 2.138348  [38400/60000]\n",
      "loss: 2.035584  [44800/60000]\n",
      "loss: 2.033298  [51200/60000]\n",
      "loss: 2.046217  [57600/60000]\n",
      "Test Error: \n",
      " Accuracy: 35.9%, Avg loss: 0.031701 \n",
      "\n",
      "Epoch 4\n",
      "-------------------------------\n",
      "loss: 1.966702  [    0/60000]\n",
      "loss: 1.956727  [ 6400/60000]\n",
      "loss: 1.895462  [12800/60000]\n",
      "loss: 2.065617  [19200/60000]\n",
      "loss: 1.848588  [25600/60000]\n",
      "loss: 1.840687  [32000/60000]\n",
      "loss: 2.010247  [38400/60000]\n",
      "loss: 1.879195  [44800/60000]\n",
      "loss: 1.874388  [51200/60000]\n",
      "loss: 1.915735  [57600/60000]\n",
      "Test Error: \n",
      " Accuracy: 37.5%, Avg loss: 0.029325 \n",
      "\n",
      "Epoch 5\n",
      "-------------------------------\n",
      "loss: 1.809910  [    0/60000]\n",
      "loss: 1.807906  [ 6400/60000]\n",
      "loss: 1.719288  [12800/60000]\n",
      "loss: 1.938716  [19200/60000]\n",
      "loss: 1.675878  [25600/60000]\n",
      "loss: 1.708460  [32000/60000]\n",
      "loss: 1.887216  [38400/60000]\n",
      "loss: 1.749515  [44800/60000]\n",
      "loss: 1.733941  [51200/60000]\n",
      "loss: 1.803242  [57600/60000]\n",
      "Test Error: \n",
      " Accuracy: 47.4%, Avg loss: 0.027282 \n",
      "\n",
      "Epoch 6\n",
      "-------------------------------\n",
      "loss: 1.682687  [    0/60000]\n",
      "loss: 1.692493  [ 6400/60000]\n",
      "loss: 1.580494  [12800/60000]\n",
      "loss: 1.833890  [19200/60000]\n",
      "loss: 1.547178  [25600/60000]\n",
      "loss: 1.614617  [32000/60000]\n",
      "loss: 1.786755  [38400/60000]\n",
      "loss: 1.653344  [44800/60000]\n",
      "loss: 1.632249  [51200/60000]\n",
      "loss: 1.723487  [57600/60000]\n",
      "Test Error: \n",
      " Accuracy: 50.0%, Avg loss: 0.025794 \n",
      "\n",
      "Epoch 7\n",
      "-------------------------------\n",
      "loss: 1.588561  [    0/60000]\n",
      "loss: 1.608118  [ 6400/60000]\n",
      "loss: 1.478050  [12800/60000]\n",
      "loss: 1.757949  [19200/60000]\n",
      "loss: 1.458518  [25600/60000]\n",
      "loss: 1.546787  [32000/60000]\n",
      "loss: 1.714412  [38400/60000]\n",
      "loss: 1.582018  [44800/60000]\n",
      "loss: 1.558235  [51200/60000]\n",
      "loss: 1.667923  [57600/60000]\n",
      "Test Error: \n",
      " Accuracy: 50.7%, Avg loss: 0.024719 \n",
      "\n",
      "Epoch 8\n",
      "-------------------------------\n",
      "loss: 1.516131  [    0/60000]\n",
      "loss: 1.544201  [ 6400/60000]\n",
      "loss: 1.398362  [12800/60000]\n",
      "loss: 1.699359  [19200/60000]\n",
      "loss: 1.397110  [25600/60000]\n",
      "loss: 1.495337  [32000/60000]\n",
      "loss: 1.663061  [38400/60000]\n",
      "loss: 1.528134  [44800/60000]\n",
      "loss: 1.501922  [51200/60000]\n",
      "loss: 1.624250  [57600/60000]\n",
      "Test Error: \n",
      " Accuracy: 51.2%, Avg loss: 0.023910 \n",
      "\n",
      "Epoch 9\n",
      "-------------------------------\n",
      "loss: 1.458119  [    0/60000]\n",
      "loss: 1.494339  [ 6400/60000]\n",
      "loss: 1.334563  [12800/60000]\n",
      "loss: 1.652978  [19200/60000]\n",
      "loss: 1.354351  [25600/60000]\n",
      "loss: 1.455767  [32000/60000]\n",
      "loss: 1.625804  [38400/60000]\n",
      "loss: 1.487174  [44800/60000]\n",
      "loss: 1.458233  [51200/60000]\n",
      "loss: 1.588560  [57600/60000]\n",
      "Test Error: \n",
      " Accuracy: 51.9%, Avg loss: 0.023282 \n",
      "\n",
      "Epoch 10\n",
      "-------------------------------\n",
      "loss: 1.410682  [    0/60000]\n",
      "loss: 1.453415  [ 6400/60000]\n",
      "loss: 1.282578  [12800/60000]\n",
      "loss: 1.615539  [19200/60000]\n",
      "loss: 1.323735  [25600/60000]\n",
      "loss: 1.425656  [32000/60000]\n",
      "loss: 1.596002  [38400/60000]\n",
      "loss: 1.455101  [44800/60000]\n",
      "loss: 1.423456  [51200/60000]\n",
      "loss: 1.558943  [57600/60000]\n",
      "Test Error: \n",
      " Accuracy: 52.6%, Avg loss: 0.022776 \n",
      "\n",
      "Epoch 11\n",
      "-------------------------------\n",
      "loss: 1.370279  [    0/60000]\n",
      "loss: 1.418382  [ 6400/60000]\n",
      "loss: 1.239312  [12800/60000]\n",
      "loss: 1.583818  [19200/60000]\n",
      "loss: 1.301691  [25600/60000]\n",
      "loss: 1.401467  [32000/60000]\n",
      "loss: 1.570181  [38400/60000]\n",
      "loss: 1.367192  [44800/60000]\n",
      "loss: 1.331143  [51200/60000]\n",
      "loss: 1.466173  [57600/60000]\n",
      "Test Error: \n",
      " Accuracy: 54.6%, Avg loss: 0.021182 \n",
      "\n",
      "Epoch 12\n",
      "-------------------------------\n",
      "loss: 1.226888  [    0/60000]\n",
      "loss: 1.359001  [ 6400/60000]\n",
      "loss: 1.116250  [12800/60000]\n",
      "loss: 1.520796  [19200/60000]\n",
      "loss: 1.266754  [25600/60000]\n",
      "loss: 1.210589  [32000/60000]\n",
      "loss: 1.457585  [38400/60000]\n",
      "loss: 1.206370  [44800/60000]\n",
      "loss: 1.266008  [51200/60000]\n",
      "loss: 1.421053  [57600/60000]\n",
      "Test Error: \n",
      " Accuracy: 56.2%, Avg loss: 0.020400 \n",
      "\n",
      "Epoch 13\n",
      "-------------------------------\n",
      "loss: 1.162662  [    0/60000]\n",
      "loss: 1.307205  [ 6400/60000]\n",
      "loss: 1.060856  [12800/60000]\n",
      "loss: 1.476716  [19200/60000]\n",
      "loss: 1.237476  [25600/60000]\n",
      "loss: 1.171736  [32000/60000]\n",
      "loss: 1.425154  [38400/60000]\n",
      "loss: 1.162663  [44800/60000]\n",
      "loss: 1.230648  [51200/60000]\n",
      "loss: 1.389417  [57600/60000]\n",
      "Test Error: \n",
      " Accuracy: 57.6%, Avg loss: 0.019842 \n",
      "\n",
      "Epoch 14\n",
      "-------------------------------\n",
      "loss: 1.121085  [    0/60000]\n",
      "loss: 1.269320  [ 6400/60000]\n",
      "loss: 1.019806  [12800/60000]\n",
      "loss: 1.440573  [19200/60000]\n",
      "loss: 1.218202  [25600/60000]\n",
      "loss: 1.141839  [32000/60000]\n",
      "loss: 1.398601  [38400/60000]\n",
      "loss: 1.128898  [44800/60000]\n",
      "loss: 1.203141  [51200/60000]\n",
      "loss: 1.363504  [57600/60000]\n",
      "Test Error: \n",
      " Accuracy: 58.4%, Avg loss: 0.019383 \n",
      "\n",
      "Epoch 15\n",
      "-------------------------------\n",
      "loss: 1.085011  [    0/60000]\n",
      "loss: 1.236172  [ 6400/60000]\n",
      "loss: 0.985530  [12800/60000]\n",
      "loss: 1.409961  [19200/60000]\n",
      "loss: 1.202396  [25600/60000]\n",
      "loss: 1.117293  [32000/60000]\n",
      "loss: 1.374443  [38400/60000]\n",
      "loss: 1.100702  [44800/60000]\n",
      "loss: 1.179742  [51200/60000]\n",
      "loss: 1.340301  [57600/60000]\n",
      "Test Error: \n",
      " Accuracy: 59.2%, Avg loss: 0.018976 \n",
      "\n",
      "Done!\n"
     ]
    }
   ],
   "source": [
    "epochs = 15\n",
    "for t in range(epochs):\n",
    "    print(f\"Epoch {t+1}\\n-------------------------------\")\n",
    "    train(train_dataloader, model, loss_fn, optimizer)\n",
    "    test(test_dataloader, model)\n",
    "print(\"Done!\")"
   ]
  },
  {
   "cell_type": "code",
   "execution_count": 119,
   "metadata": {},
   "outputs": [
    {
     "name": "stdout",
     "output_type": "stream",
     "text": [
      "Saved PyTorch Model State to model.pth\n"
     ]
    }
   ],
   "source": [
    "torch.save(model.state_dict(), \"data/model.pth\")\n",
    "print(\"Saved PyTorch Model State to model.pth\")"
   ]
  },
  {
   "cell_type": "code",
   "execution_count": 120,
   "metadata": {},
   "outputs": [
    {
     "data": {
      "text/plain": [
       "<All keys matched successfully>"
      ]
     },
     "execution_count": 120,
     "metadata": {},
     "output_type": "execute_result"
    }
   ],
   "source": [
    "model = NeuralNetwork()\n",
    "model.load_state_dict(torch.load(\"data/model.pth\"))"
   ]
  },
  {
   "cell_type": "code",
   "execution_count": 121,
   "metadata": {},
   "outputs": [
    {
     "name": "stdout",
     "output_type": "stream",
     "text": [
      "Predicted: \"Ankle boot\", Actual: \"Ankle boot\"\n"
     ]
    }
   ],
   "source": [
    "classes = [\n",
    "    \"T-shirt/top\",\n",
    "    \"Trouser\",\n",
    "    \"Pullover\",\n",
    "    \"Dress\",\n",
    "    \"Coat\",\n",
    "    \"Sandal\",\n",
    "    \"Shirt\",\n",
    "    \"Sneaker\",\n",
    "    \"Bag\",\n",
    "    \"Ankle boot\",\n",
    "]\n",
    "\n",
    "model.eval()\n",
    "x, y = test_data[0][0], test_data[0][1]\n",
    "with torch.no_grad():\n",
    "    pred = model(x)\n",
    "    predicted, actual = classes[pred[0].argmax(0)], classes[y]\n",
    "    print(f'Predicted: \"{predicted}\", Actual: \"{actual}\"')"
   ]
  },
  {
   "cell_type": "code",
   "execution_count": null,
   "metadata": {},
   "outputs": [],
   "source": []
  }
 ],
 "metadata": {
  "kernelspec": {
   "display_name": "Python 3 (ipykernel)",
   "language": "python",
   "name": "python3"
  },
  "language_info": {
   "codemirror_mode": {
    "name": "ipython",
    "version": 3
   },
   "file_extension": ".py",
   "mimetype": "text/x-python",
   "name": "python",
   "nbconvert_exporter": "python",
   "pygments_lexer": "ipython3",
   "version": "3.10.12"
  }
 },
 "nbformat": 4,
 "nbformat_minor": 2
}
