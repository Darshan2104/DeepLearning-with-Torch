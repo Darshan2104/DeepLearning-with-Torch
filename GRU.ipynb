{
  "nbformat": 4,
  "nbformat_minor": 0,
  "metadata": {
    "colab": {
      "name": "GRU.ipynb",
      "provenance": [],
      "collapsed_sections": [],
      "authorship_tag": "ABX9TyN1BOwn0e0zVrp3tK+JjF/C",
      "include_colab_link": true
    },
    "kernelspec": {
      "name": "python3",
      "display_name": "Python 3"
    },
    "language_info": {
      "name": "python"
    }
  },
  "cells": [
    {
      "cell_type": "markdown",
      "metadata": {
        "id": "view-in-github",
        "colab_type": "text"
      },
      "source": [
        "<a href=\"https://colab.research.google.com/github/Darshan2104/PlayWithPytorch/blob/main/GRU.ipynb\" target=\"_parent\"><img src=\"https://colab.research.google.com/assets/colab-badge.svg\" alt=\"Open In Colab\"/></a>"
      ]
    },
    {
      "cell_type": "code",
      "execution_count": 6,
      "metadata": {
        "colab": {
          "base_uri": "https://localhost:8080/",
          "height": 826
        },
        "id": "jb5v3_TqdHpG",
        "outputId": "780bda48-c0eb-43e1-c634-20c8792b9c36"
      },
      "outputs": [
        {
          "output_type": "stream",
          "name": "stdout",
          "text": [
            "torch.Size([100, 1, 28, 28]) torch.Size([100])\n"
          ]
        },
        {
          "output_type": "display_data",
          "data": {
            "image/png": "[encoded data removed]",
            "text/plain": [
              "<Figure size 432x288 with 1 Axes>"
            ]
          },
          "metadata": {
            "needs_background": "light"
          }
        },
        {
          "output_type": "display_data",
          "data": {
            "image/png": "[encoded data removed]",
            "text/plain": [
              "<Figure size 432x288 with 1 Axes>"
            ]
          },
          "metadata": {
            "needs_background": "light"
          }
        },
        {
          "output_type": "display_data",
          "data": {
            "image/png": "[encoded data removed]",
            "text/plain": [
              "<Figure size 432x288 with 1 Axes>"
            ]
          },
          "metadata": {
            "needs_background": "light"
          }
        },
        {
          "output_type": "display_data",
          "data": {
            "image/png": "[encoded data removed]",
            "text/plain": [
              "<Figure size 432x288 with 1 Axes>"
            ]
          },
          "metadata": {
            "needs_background": "light"
          }
        },
        {
          "output_type": "display_data",
          "data": {
            "image/png": "[encoded data removed]",
            "text/plain": [
              "<Figure size 432x288 with 1 Axes>"
            ]
          },
          "metadata": {
            "needs_background": "light"
          }
        },
        {
          "output_type": "display_data",
          "data": {
            "image/png": "[encoded data removed]",
            "text/plain": [
              "<Figure size 432x288 with 1 Axes>"
            ]
          },
          "metadata": {
            "needs_background": "light"
          }
        }
      ],
      "source": [
        "import torch\n",
        "import torch.nn as nn\n",
        "import torchvision\n",
        "import torchvision.transforms as transforms\n",
        "import matplotlib.pyplot as plt\n",
        "\n",
        "# Device configuration\n",
        "device = torch.device('cuda' if torch.cuda.is_available() else 'cpu')\n",
        "\n",
        "# Hyper Paramters\n",
        "# For image in RNN we are using one row as one sequence!\n",
        "# input_size = 784    # 28x28\n",
        "hidden_size = 128\n",
        "num_classes = 10\n",
        "num_epochs = 2\n",
        "batch_size = 100\n",
        "learning_rate = 0.005\n",
        "\n",
        "input_size = 28\n",
        "sequence_length = 28\n",
        "number_layer = 2\n",
        "\n",
        "\n",
        "# MNIST Data\n",
        "train_dataset = torchvision.datasets.MNIST(root='./data', train =True, transform = transforms.ToTensor(), download =True)\n",
        "test_dataset = torchvision.datasets.MNIST(root='./data', train =False, transform = transforms.ToTensor())\n",
        "\n",
        "train_loader = torch.utils.data.DataLoader(dataset =train_dataset, batch_size=batch_size, shuffle = True)\n",
        "test_loader = torch.utils.data.DataLoader(dataset =test_dataset, batch_size=batch_size, shuffle = False)\n",
        "\n",
        "# One Batch of data\n",
        "examples = iter(train_loader)\n",
        "samples, lable = examples.next()\n",
        "print(samples.shape, lable.shape) # 100 images(batch-size) 1-channle 28x28 image size \n",
        "\n",
        "for i in range(6):\n",
        "  plt.subplot(2,3,i+1) # 2 rows and 3 columns and index (i+1)\n",
        "  plt.imshow(samples[i][0],cmap='gray')\n",
        "  plt.show()"
      ]
    },
    {
      "cell_type": "code",
      "source": [
        "class RNN(nn.Module):\n",
        "  def __init__(self,input_size, hidden_size,number_layer, num_classes):\n",
        "    super(RNN,self).__init__()\n",
        "    # create out layers\n",
        "    self.num_layer = number_layer\n",
        "    self.hidden_size = hidden_size\n",
        "    self.gru = nn.GRU(input_size, hidden_size,number_layer, batch_first=True)\n",
        "    # input shape  x-> (batch_size, seq_length, input_size)\n",
        "    # fc = fully connected! \n",
        "    self.fc = nn.Linear(hidden_size, num_classes)\n",
        "  \n",
        "  def forward(self, x):\n",
        "    h0 = torch.zeros(self.num_layer, x.size(0),self.hidden_size).to(device)\n",
        "    # return output-> hidden state after all the t-steps and _ -> h_n hidden state of nth step\n",
        "    out,_ = self.gru(x,h0)\n",
        "    # out shape -> (batch_size, seq_length,hidden_size)\n",
        "    # out (N,28,128)\n",
        "      # -1 is for last time step only\n",
        "    out = out[:,-1,:]\n",
        "    # out (N,128)\n",
        "    out = self.fc(out)\n",
        "    return out\n",
        "model = RNN(input_size, hidden_size, number_layer, num_classes)\n",
        "\n",
        "# loss and optimizer\n",
        "criterion = nn.CrossEntropyLoss()\n",
        "optimizer = torch.optim.Adam(model.parameters(), lr =learning_rate)\n",
        "\n",
        "# training loop\n",
        "\n",
        "n_total_steps = len(train_loader)\n",
        "\n",
        "for epoch in range(num_epochs):\n",
        "  # loop over all the batches\n",
        "  for i,(images, labels) in enumerate(train_loader):\n",
        "    # Shape  100, 1, 28, 28\n",
        "    # input size= 28x28 so tensor  need 100, 28, 28\n",
        "    images = images.reshape(-1,sequence_length, input_size).to(device)\n",
        "    labels = labels.to(device)\n",
        "\n",
        "    # forward pass\n",
        "    output = model(images)\n",
        "    loss = criterion(output, labels)\n",
        "\n",
        "    # backward pass\n",
        "    optimizer.zero_grad()\n",
        "    loss.backward()\n",
        "    optimizer.step()\n",
        "\n",
        "    if (i+1)%100 == 0:\n",
        "      print(f'epoch : {epoch+1} / {num_epochs}, step : {i+1}/{n_total_steps}, loss = {loss.item():.4f}')\n",
        "\n",
        "\n",
        "# testing\n",
        "\n",
        "with torch.no_grad():\n",
        "  n_correct = 0\n",
        "  n_samples = 0\n",
        "  \n",
        "  for images, labels in test_loader:\n",
        "    images = images.reshape(-1,sequence_length, input_size).to(device)\n",
        "    labels = labels.to(device)\n",
        "\n",
        "    outputs = model(images)\n",
        "\n",
        "# max returns  values and index\n",
        "    _,predictions = torch.max(outputs,1)\n",
        "    n_samples += labels.shape[0]\n",
        "    n_correct += (predictions == labels).sum().item()\n",
        "\n",
        "  acc = 100.0 * n_correct / n_samples\n",
        "  print(f'accuracy = {acc:.4f}')"
      ],
      "metadata": {
        "colab": {
          "base_uri": "https://localhost:8080/"
        },
        "id": "LtYoT91oexds",
        "outputId": "c6ec0299-b8d1-407c-8a47-70ef56206eda"
      },
      "execution_count": 7,
      "outputs": [
        {
          "output_type": "stream",
          "name": "stdout",
          "text": [
            "epoch : 1 / 2, step : 100/600, loss = 0.4191\n",
            "epoch : 1 / 2, step : 200/600, loss = 0.1354\n",
            "epoch : 1 / 2, step : 300/600, loss = 0.1191\n",
            "epoch : 1 / 2, step : 400/600, loss = 0.1728\n",
            "epoch : 1 / 2, step : 500/600, loss = 0.2119\n",
            "epoch : 1 / 2, step : 600/600, loss = 0.0505\n",
            "epoch : 2 / 2, step : 100/600, loss = 0.0074\n",
            "epoch : 2 / 2, step : 200/600, loss = 0.0635\n",
            "epoch : 2 / 2, step : 300/600, loss = 0.1367\n",
            "epoch : 2 / 2, step : 400/600, loss = 0.0899\n",
            "epoch : 2 / 2, step : 500/600, loss = 0.0272\n",
            "epoch : 2 / 2, step : 600/600, loss = 0.0451\n",
            "accuracy = 98.2100\n"
          ]
        }
      ]
    },
    {
      "cell_type": "code",
      "source": [
        ""
      ],
      "metadata": {
        "id": "FTgIaoySkkny"
      },
      "execution_count": null,
      "outputs": []
    }
  ]
}