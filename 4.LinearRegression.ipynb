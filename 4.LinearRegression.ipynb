{
  "nbformat": 4,
  "nbformat_minor": 0,
  "metadata": {
    "colab": {
      "name": "LinearRegression.ipynb",
      "provenance": [],
      "collapsed_sections": [],
      "authorship_tag": "ABX9TyOGmdjmGhoYgDO69sLQEFE9",
      "include_colab_link": true
    },
    "kernelspec": {
      "name": "python3",
      "display_name": "Python 3"
    },
    "language_info": {
      "name": "python"
    }
  },
  "cells": [
    {
      "cell_type": "markdown",
      "metadata": {
        "id": "view-in-github",
        "colab_type": "text"
      },
      "source": [
        "<a href=\"https://colab.research.google.com/github/Darshan2104/PlayWithPytorch/blob/main/LinearRegression.ipynb\" target=\"_parent\"><img src=\"https://colab.research.google.com/assets/colab-badge.svg\" alt=\"Open In Colab\"/></a>"
      ]
    },
    {
      "cell_type": "code",
      "execution_count": 19,
      "metadata": {
        "colab": {
          "base_uri": "https://localhost:8080/",
          "height": 816
        },
        "id": "d7yNJtZR57e7",
        "outputId": "474857b7-20b2-452a-bc31-99b95298928a"
      },
      "outputs": [
        {
          "output_type": "stream",
          "name": "stdout",
          "text": [
            "epoch = 10 , loss = 2539.3826\n",
            "epoch = 20 , loss = 1168.3718\n",
            "epoch = 30 , loss = 650.9931\n",
            "epoch = 40 , loss = 454.4272\n",
            "epoch = 50 , loss = 379.3604\n",
            "epoch = 60 , loss = 350.5809\n",
            "epoch = 70 , loss = 339.5151\n",
            "epoch = 80 , loss = 335.2509\n",
            "epoch = 90 , loss = 333.6049\n",
            "epoch = 100 , loss = 332.9690\n",
            "epoch = 110 , loss = 332.7229\n",
            "epoch = 120 , loss = 332.6278\n",
            "epoch = 130 , loss = 332.5909\n",
            "epoch = 140 , loss = 332.5766\n",
            "epoch = 150 , loss = 332.5711\n",
            "epoch = 160 , loss = 332.5689\n",
            "epoch = 170 , loss = 332.5681\n",
            "epoch = 180 , loss = 332.5678\n",
            "epoch = 190 , loss = 332.5676\n",
            "epoch = 200 , loss = 332.5676\n",
            "epoch = 210 , loss = 332.5676\n",
            "epoch = 220 , loss = 332.5676\n",
            "epoch = 230 , loss = 332.5676\n",
            "epoch = 240 , loss = 332.5675\n",
            "epoch = 250 , loss = 332.5676\n",
            "epoch = 260 , loss = 332.5675\n",
            "epoch = 270 , loss = 332.5676\n",
            "epoch = 280 , loss = 332.5675\n",
            "epoch = 290 , loss = 332.5675\n",
            "epoch = 300 , loss = 332.5676\n"
          ]
        },
        {
          "output_type": "display_data",
          "data": {
            "image/png": "[encoded data removed]",
            "text/plain": [
              "<Figure size 432x288 with 1 Axes>"
            ]
          },
          "metadata": {
            "needs_background": "light"
          }
        }
      ],
      "source": [
        "# Pipeline :\n",
        "\n",
        "# 1.) Design model (input size, output size, forward pass)\n",
        "# 2.) Construct loss and optimizer\n",
        "# 3.) Training loop\n",
        "#     - Forward pass  : compute prediction\n",
        "#     - Backward pass : Gradients\n",
        "#     - Update weights\n",
        "\n",
        "import torch\n",
        "import torch.nn as nn\n",
        "import numpy as np\n",
        "from sklearn import datasets\n",
        "import matplotlib.pyplot as plt\n",
        "\n",
        "# 0.) prepare data\n",
        "\n",
        "X_numpy, Y_numpy = datasets.make_regression(n_samples=100, n_features=1, noise=20, random_state=1)\n",
        "\n",
        "X = torch.from_numpy(X_numpy.astype(np.float32))\n",
        "y = torch.from_numpy(Y_numpy.astype(np.float32)) # only one raw and we want to make it one column vector so we will put each value in row and that makes only one column\n",
        "\n",
        "y = y.view(y.shape[0], 1) #number of value and only 1 colume #reshape our tensor\n",
        "n_sample, n_features = X.shape\n",
        "\n",
        "# 1.) model \n",
        "input_size = n_features\n",
        "output_size = 1         # we have only one value as an output for each example we put in.\n",
        "model = nn.Linear(input_size, output_size)\n",
        "\n",
        "# 2.) loss and optimizer\n",
        "learning_rate=0.03\n",
        "criterion = nn.MSELoss()\n",
        "optimizer = torch.optim.SGD(model.parameters(), lr=learning_rate)\n",
        "\n",
        "# 3.) training loop\n",
        "num_epochs = 300\n",
        "\n",
        "for epoch in range(num_epochs):\n",
        "  # forward pass and loss\n",
        "  y_predicted = model(X)\n",
        "  loss = criterion(y_predicted, y)\n",
        "\n",
        "  # backward pass\n",
        "  loss.backward()\n",
        "\n",
        "  # update\n",
        "  optimizer.step()\n",
        "  optimizer.zero_grad()\n",
        "\n",
        "  if (epoch+1) % 10 == 0 :\n",
        "    print(f'epoch = {epoch+1} , loss = {loss.item():.4f}')\n",
        "\n",
        "# plot\n",
        "predicted = model(X).detach().numpy() #conveted into numpy\n",
        "plt.plot(X_numpy, Y_numpy, 'ro')\n",
        "plt.plot(X_numpy, predicted, 'b')\n",
        "plt.show()"
      ]
    }
  ]
}
