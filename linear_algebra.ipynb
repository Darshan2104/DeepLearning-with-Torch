{
 "cells": [
  {
   "cell_type": "markdown",
   "id": "fdda6bf3",
   "metadata": {},
   "source": [
    "# Numpy matrix operations"
   ]
  },
  {
   "cell_type": "markdown",
   "id": "3938aab0",
   "metadata": {},
   "source": [
    "## transpose"
   ]
  },
  {
   "cell_type": "markdown",
   "id": "faf63f3a",
   "metadata": {},
   "source": [
    "## multiplication, sum and substraction"
   ]
  },
  {
   "cell_type": "markdown",
   "id": "1839fab1",
   "metadata": {},
   "source": [
    "## Determinant"
   ]
  },
  {
   "cell_type": "markdown",
   "id": "a60afad7",
   "metadata": {},
   "source": [
    "## Inverse of matrix"
   ]
  },
  {
   "cell_type": "markdown",
   "id": "e96f0c75",
   "metadata": {},
   "source": [
    "## Rank of Matrix\n",
    "- Echelon form and pivot columns"
   ]
  },
  {
   "cell_type": "markdown",
   "id": "012fe558",
   "metadata": {},
   "source": [
    "## Eigenvalues and Eigenvectors"
   ]
  },
  {
   "cell_type": "markdown",
   "id": "c543f6f0",
   "metadata": {},
   "source": [
    "## Solving Ax=b\n",
    "1. Gaussian Elimination\n",
    "2. Crammer Rule"
   ]
  },
  {
   "cell_type": "code",
   "execution_count": 1,
   "id": "c045d6be",
   "metadata": {},
   "outputs": [],
   "source": [
    "import numpy as np"
   ]
  },
  {
   "cell_type": "code",
   "execution_count": 2,
   "id": "308a5282",
   "metadata": {},
   "outputs": [],
   "source": [
    "A = np.array([[1,2,3],[4,5,6],[7,8,9]])\n",
    "B = np.array([[1,2,3],[4,5,6],[7,8,9]])"
   ]
  },
  {
   "cell_type": "code",
   "execution_count": 3,
   "id": "393de754",
   "metadata": {},
   "outputs": [
    {
     "name": "stdout",
     "output_type": "stream",
     "text": [
      "matrix : 1\n",
      " [[1 2 3]\n",
      " [4 5 6]\n",
      " [7 8 9]] \n",
      "\n",
      " matrix : 2\n",
      " [[1 2 3]\n",
      " [4 5 6]\n",
      " [7 8 9]]\n"
     ]
    }
   ],
   "source": [
    "print(\"matrix : 1\\n\",A,\"\\n\\n matrix : 2\\n\",B)"
   ]
  },
  {
   "cell_type": "code",
   "execution_count": 4,
   "id": "09663618",
   "metadata": {},
   "outputs": [
    {
     "name": "stdout",
     "output_type": "stream",
     "text": [
      "[[ 30  36  42]\n",
      " [ 66  81  96]\n",
      " [102 126 150]]\n"
     ]
    }
   ],
   "source": [
    "ans = np.dot(A,B)\n",
    "print(ans)"
   ]
  },
  {
   "cell_type": "code",
   "execution_count": 5,
   "id": "41ae64af",
   "metadata": {},
   "outputs": [
    {
     "name": "stdout",
     "output_type": "stream",
     "text": [
      "[[1 2 3 4]]\n",
      "(1, 4)\n",
      "[[1]\n",
      " [2]\n",
      " [3]\n",
      " [4]]\n",
      "(4, 1)\n"
     ]
    }
   ],
   "source": [
    "D = np.array([[1,2,3,4]])\n",
    "print(D)\n",
    "print(D.shape)\n",
    "DT = np.transpose(D)\n",
    "print(DT)\n",
    "print(DT.shape)"
   ]
  },
  {
   "cell_type": "code",
   "execution_count": 6,
   "id": "463b144f",
   "metadata": {},
   "outputs": [
    {
     "name": "stdout",
     "output_type": "stream",
     "text": [
      "[[30]]\n",
      "(1, 1)\n"
     ]
    }
   ],
   "source": [
    "ans = np.dot(D,DT)\n",
    "print(ans)\n",
    "print(ans.shape)"
   ]
  },
  {
   "cell_type": "code",
   "execution_count": 7,
   "id": "9e5e638d",
   "metadata": {},
   "outputs": [
    {
     "name": "stdout",
     "output_type": "stream",
     "text": [
      "[[-0.5         0.          0.5       ]\n",
      " [ 0.64285714  0.42857143 -1.21428571]\n",
      " [ 0.07142857 -0.28571429  0.64285714]]\n",
      "\n",
      "\n",
      "Matrx is not invertible\n"
     ]
    }
   ],
   "source": [
    "A = np.array([\n",
    "    [1,2,3],\n",
    "    [7,5,4],\n",
    "    [1,2,3]])\n",
    "B = np.array([\n",
    "    [1,2,3],\n",
    "    [7,5,4],\n",
    "    [3,2,3]])\n",
    "\n",
    "try:\n",
    "    result = np.linalg.inv(B)\n",
    "    print(result)\n",
    "except:\n",
    "    print(\"Matrix is not invertible\")\n",
    "print(\"\\n\")    \n",
    "try:\n",
    "    result = np.linalg.inv(A)\n",
    "    print(result)\n",
    "except:\n",
    "    print(\"Matrx is not invertible\")\n",
    "\n",
    "\n"
   ]
  },
  {
   "cell_type": "code",
   "execution_count": 8,
   "id": "dc78de31",
   "metadata": {},
   "outputs": [
    {
     "name": "stdout",
     "output_type": "stream",
     "text": [
      "-5.000000000000001\n"
     ]
    }
   ],
   "source": [
    "A = np.array([\n",
    "             [1,2,3],\n",
    "             [4,5,1],\n",
    "             [2,3,4]\n",
    "        ])\n",
    "\n",
    "determinant = np.linalg.det(A)\n",
    "print(determinant)"
   ]
  },
  {
   "cell_type": "code",
   "execution_count": 9,
   "id": "9f2e3797",
   "metadata": {},
   "outputs": [
    {
     "data": {
      "text/plain": [
       "array([1, 2, 3, 4, 5, 1, 2, 3, 4])"
      ]
     },
     "execution_count": 9,
     "metadata": {},
     "output_type": "execute_result"
    }
   ],
   "source": [
    "A.flatten()"
   ]
  },
  {
   "cell_type": "code",
   "execution_count": null,
   "id": "a570ebc2",
   "metadata": {},
   "outputs": [],
   "source": []
  },
  {
   "cell_type": "markdown",
   "id": "add27188",
   "metadata": {},
   "source": [
    "## Gaussian Elimination"
   ]
  },
  {
   "cell_type": "code",
   "execution_count": 10,
   "id": "8b67de78",
   "metadata": {},
   "outputs": [],
   "source": [
    "def gaussian_elimination(A,b):\n",
    "    \n",
    "    print(\"shape of A\",A.shape)\n",
    "    \n",
    "    num_row = A.shape[0]\n",
    "    num_col = A.shape[1]\n",
    "    \n",
    "    # system is not symetric (not a square matrix)\n",
    "    if num_row != num_col:\n",
    "        if num_row < num_col:\n",
    "            # +++++++++++++++++++ underdetermined system ---> infinite solution ++++++++++++++++++\n",
    "            x = np.zeros(num_col)\n",
    "            for i in range(num_row):\n",
    "                x[i] = b[i] / A[i, i]\n",
    "            return x\n",
    "        \n",
    "#             A_aug = np.concatenate((A, b.reshape(-1, 1)), axis=1)\n",
    "#             A_aug = np.linalg.solve(A_aug, np.eye(A_aug.shape[0]))\n",
    "#             x = A_aug[:, -1]\n",
    "#             A_aug = np.concatenate((A, b.reshape(-1, 1)), axis=1)\n",
    "#             print(A_aug)\n",
    "#             print(np.eye(A_aug.shape[0]))\n",
    "#             A_aug = np.linalg.solve(A_aug, np.eye(A_aug.shape[0]))\n",
    "#             print(A_aug)\n",
    "#             x = A_aug[:, -1]\n",
    "#             return x\n",
    "        else:\n",
    "            # +++++++++++++++++++ overdetermined system ---> no unique solution +++++++++++++++++++\n",
    "            # num_row > num_col (normally our Dataset follow this)\n",
    "#      1. find solution directly................\n",
    "            Q, R = np.linalg.qr(A)\n",
    "            x = np.linalg.solve(R, Q.T @ b)\n",
    "            print(\"solution by use of library ====> \",x)\n",
    "#             or\n",
    "#      2. find by using linear algebra...........\n",
    "            AT = np.transpose(A)\n",
    "            ATA = np.dot(AT,A)\n",
    "            ATb = np.dot(AT,b)\n",
    "            try:\n",
    "                ATA_inverse = np.linalg.inv(ATA)\n",
    "#                 print(\"inverse of given input matrix ATA\",ATA_inverse)\n",
    "            except:\n",
    "                print(f\"determinant of ATA is ---> {np.linalg.det(ATA)}\")\n",
    "                return None\n",
    "            \n",
    "            result = np.dot(ATA_inverse,ATb)\n",
    "            print(\"solution by solving LA ===> \",result)\n",
    "            return result\n",
    "#             solve X^TXW = X^Tb ----> W = (X^TX)^-1 *(X^Tb)\n",
    "            \n",
    "    else:\n",
    "        # ++++++++++++++ square matrix ----> unique solution +++++++++++++++\n",
    "        \n",
    "        # Eliminate the leading variable in each row of the matrix A.\n",
    "        for i in range(0,num_row-1):\n",
    "            for j in range(i+1, num_row):\n",
    "                pivot = A[i,i]\n",
    "                element_val = A[j,i]\n",
    "                pivot = A[i,i]\n",
    "                val_for_other_cols = A[i,:]\n",
    "                A[j,:] = A[j,:] - val_for_other_cols*(element_val/pivot)\n",
    "        print(f\"\\n\\n\\nfinal matrix : {A}\")\n",
    "        x = np.zeros(num_row)\n",
    "        for i in range(num_row-1, -1, -1):\n",
    "            x[i] = (b[i] - np.sum(A[i, i + 1:] * x[i + 1:])) / A[i, i]\n",
    "        return x   "
   ]
  },
  {
   "cell_type": "code",
   "execution_count": 11,
   "id": "ac5ecc31",
   "metadata": {},
   "outputs": [
    {
     "name": "stdout",
     "output_type": "stream",
     "text": [
      "shape of A (2, 3)\n",
      "solution of under_determined_system ---> [2.33333333 1.         0.        ]\n"
     ]
    }
   ],
   "source": [
    "import numpy as np\n",
    "\n",
    "problem = 2\n",
    "system = {1: \"over_determined_system\",2:\"under_determined_system\",3:\"square_system\"}\n",
    "\n",
    "if system[problem] == \"over_determined_system\":\n",
    "    A = np.array([\n",
    "        [2, 1], \n",
    "        [-3,1],\n",
    "        [-1,1]\n",
    "        ])\n",
    "    b = np.array(\n",
    "        [-1,-2,1]\n",
    "    )\n",
    "elif system[problem] == \"under_determined_system\":\n",
    "    A = np.array([\n",
    "        [3, 4,5], \n",
    "        [6,8,10],\n",
    "      \n",
    "        ])\n",
    "    b = np.array(\n",
    "        [7,8]\n",
    "    )\n",
    "else:\n",
    "    A = np.array([\n",
    "        [2, 3], \n",
    "        [2,-1]\n",
    "    ])\n",
    "    b = np.array(\n",
    "        [3, 1]\n",
    "    )\n",
    "    \n",
    "\n",
    "x = gaussian_elimination(A, b)\n",
    "print(f\"solution of {system[problem]} ---> {x}\")\n"
   ]
  },
  {
   "cell_type": "code",
   "execution_count": 12,
   "id": "011d34d1",
   "metadata": {},
   "outputs": [
    {
     "name": "stdout",
     "output_type": "stream",
     "text": [
      "37.99999999999999\n",
      "[[0.07894737 0.05263158]\n",
      " [0.05263158 0.36842105]]\n"
     ]
    }
   ],
   "source": [
    "A = np.array([[14,-2],[-2,3]])\n",
    "print(np.linalg.det(A))\n",
    "print(np.linalg.inv(A))"
   ]
  },
  {
   "cell_type": "code",
   "execution_count": 13,
   "id": "0aea0697",
   "metadata": {},
   "outputs": [],
   "source": [
    "# print(A[0,:] + A[1,:])\n",
    "# A[1, :] -= A[0, :] * (A[1, 0] / A[0,0])\n",
    "# print(A[1,:])"
   ]
  },
  {
   "cell_type": "code",
   "execution_count": 14,
   "id": "7cec414e",
   "metadata": {},
   "outputs": [
    {
     "name": "stdout",
     "output_type": "stream",
     "text": [
      "[[14 -2]\n",
      " [-2  3]]\n",
      "(2, 2)\n",
      "[7 8]\n",
      "(2,)\n"
     ]
    }
   ],
   "source": [
    "print(A)\n",
    "print(A.shape)\n",
    "print(b)\n",
    "print(b.shape)"
   ]
  },
  {
   "cell_type": "code",
   "execution_count": 15,
   "id": "90dd4450",
   "metadata": {
    "scrolled": true
   },
   "outputs": [
    {
     "name": "stdout",
     "output_type": "stream",
     "text": [
      "[[1 2 3]]\n",
      "[[1]\n",
      " [2]\n",
      " [3]]\n"
     ]
    }
   ],
   "source": [
    "b = np.array([[1,2,3]])\n",
    "print(b)\n",
    "print(np.transpose(b))"
   ]
  },
  {
   "cell_type": "markdown",
   "id": "ca86ce40",
   "metadata": {},
   "source": [
    "## How to check LD or LID cloumn ?\n",
    "1. One solution is to find a Rank of matrix\n",
    "    - reduce matrix to row echlon form"
   ]
  },
  {
   "cell_type": "code",
   "execution_count": 1,
   "id": "524a2876",
   "metadata": {
    "scrolled": true
   },
   "outputs": [
    {
     "name": "stdout",
     "output_type": "stream",
     "text": [
      "Defaulting to user installation because normal site-packages is not writeable\n",
      "Requirement already satisfied: pip in /usr/lib/python3/dist-packages (22.0.2)\n",
      "Collecting pip\n",
      "  Downloading pip-24.0-py3-none-any.whl (2.1 MB)\n",
      "\u001b[2K     \u001b[38;2;114;156;31m━━━━━━━━━━━━━━━━━━━━━━━━━━━━━━━━━━━━━━━━\u001b[0m \u001b[32m2.1/2.1 MB\u001b[0m \u001b[31m3.6 MB/s\u001b[0m eta \u001b[36m0:00:00\u001b[0m[31m3.8 MB/s\u001b[0m eta \u001b[36m0:00:01\u001b[0m\n",
      "\u001b[?25hInstalling collected packages: pip\n",
      "Successfully installed pip-24.0\n"
     ]
    }
   ],
   "source": [
    "!python3 -m pip install --upgrade pip"
   ]
  },
  {
   "cell_type": "code",
   "execution_count": 2,
   "id": "7a94dec2",
   "metadata": {},
   "outputs": [
    {
     "name": "stdout",
     "output_type": "stream",
     "text": [
      "Defaulting to user installation because normal site-packages is not writeable\n",
      "Requirement already satisfied: numpy in /home/darshan/.local/lib/python3.10/site-packages (1.23.5)\n"
     ]
    }
   ],
   "source": [
    "!pip3 install numpy"
   ]
  },
  {
   "cell_type": "code",
   "execution_count": 4,
   "id": "db3e7c0a",
   "metadata": {
    "scrolled": true
   },
   "outputs": [
    {
     "name": "stdout",
     "output_type": "stream",
     "text": [
      "[[ 14   0  11   3]\n",
      " [ 22  23   4   7]\n",
      " [-12 -34  -3  -4]]\n"
     ]
    }
   ],
   "source": [
    "import numpy as np\n",
    "A = np.array([\n",
    "    [14, 0, 11, 3], \n",
    "    [22, 23, 4, 7], \n",
    "    [-12, -34, -3, -4]\n",
    "]) \n",
    "print(A)\n",
    "# print(np.rref(A))"
   ]
  },
  {
   "cell_type": "code",
   "execution_count": 6,
   "id": "e2ec6e33",
   "metadata": {
    "collapsed": true
   },
   "outputs": [
    {
     "ename": "NameError",
     "evalue": "name 'A_row_echelon_form' is not defined",
     "output_type": "error",
     "traceback": [
      "\u001b[0;31m---------------------------------------------------------------------------\u001b[0m",
      "\u001b[0;31mNameError\u001b[0m                                 Traceback (most recent call last)",
      "\u001b[0;32m/tmp/ipykernel_15014/3761809952.py\u001b[0m in \u001b[0;36m<module>\u001b[0;34m\u001b[0m\n\u001b[1;32m     18\u001b[0m \u001b[0;34m\u001b[0m\u001b[0m\n\u001b[1;32m     19\u001b[0m \u001b[0;31m# Find the number of free columns in the matrix.\u001b[0m\u001b[0;34m\u001b[0m\u001b[0;34m\u001b[0m\u001b[0m\n\u001b[0;32m---> 20\u001b[0;31m \u001b[0mnum_free_columns\u001b[0m \u001b[0;34m=\u001b[0m \u001b[0mcount_free_columns\u001b[0m\u001b[0;34m(\u001b[0m\u001b[0mA\u001b[0m\u001b[0;34m)\u001b[0m\u001b[0;34m\u001b[0m\u001b[0;34m\u001b[0m\u001b[0m\n\u001b[0m\u001b[1;32m     21\u001b[0m \u001b[0;34m\u001b[0m\u001b[0m\n\u001b[1;32m     22\u001b[0m \u001b[0;31m# Print the result.\u001b[0m\u001b[0;34m\u001b[0m\u001b[0;34m\u001b[0m\u001b[0m\n",
      "\u001b[0;32m/tmp/ipykernel_15014/3761809952.py\u001b[0m in \u001b[0;36mcount_free_columns\u001b[0;34m(A)\u001b[0m\n\u001b[1;32m      8\u001b[0m   \u001b[0;31m# Count the number of columns that do not contain a leading coefficient.\u001b[0m\u001b[0;34m\u001b[0m\u001b[0;34m\u001b[0m\u001b[0m\n\u001b[1;32m      9\u001b[0m   \u001b[0mnum_free_columns\u001b[0m \u001b[0;34m=\u001b[0m \u001b[0;36m0\u001b[0m\u001b[0;34m\u001b[0m\u001b[0;34m\u001b[0m\u001b[0m\n\u001b[0;32m---> 10\u001b[0;31m   \u001b[0;32mfor\u001b[0m \u001b[0mi\u001b[0m \u001b[0;32min\u001b[0m \u001b[0mrange\u001b[0m\u001b[0;34m(\u001b[0m\u001b[0mA_row_echelon_form\u001b[0m\u001b[0;34m.\u001b[0m\u001b[0mshape\u001b[0m\u001b[0;34m[\u001b[0m\u001b[0;36m1\u001b[0m\u001b[0;34m]\u001b[0m\u001b[0;34m)\u001b[0m\u001b[0;34m:\u001b[0m\u001b[0;34m\u001b[0m\u001b[0;34m\u001b[0m\u001b[0m\n\u001b[0m\u001b[1;32m     11\u001b[0m     \u001b[0;32mif\u001b[0m \u001b[0mnp\u001b[0m\u001b[0;34m.\u001b[0m\u001b[0mall\u001b[0m\u001b[0;34m(\u001b[0m\u001b[0mA_row_echelon_form\u001b[0m\u001b[0;34m[\u001b[0m\u001b[0;34m:\u001b[0m\u001b[0;34m,\u001b[0m \u001b[0mi\u001b[0m\u001b[0;34m]\u001b[0m \u001b[0;34m==\u001b[0m \u001b[0;36m0\u001b[0m\u001b[0;34m)\u001b[0m\u001b[0;34m:\u001b[0m\u001b[0;34m\u001b[0m\u001b[0;34m\u001b[0m\u001b[0m\n\u001b[1;32m     12\u001b[0m       \u001b[0mnum_free_columns\u001b[0m \u001b[0;34m+=\u001b[0m \u001b[0;36m1\u001b[0m\u001b[0;34m\u001b[0m\u001b[0;34m\u001b[0m\u001b[0m\n",
      "\u001b[0;31mNameError\u001b[0m: name 'A_row_echelon_form' is not defined"
     ]
    }
   ],
   "source": [
    "import numpy as np\n",
    "\n",
    "def count_free_columns(A):\n",
    "\n",
    "  # Reduce the matrix to row echelon form.\n",
    "#   A_row_echelon_form = np.rref(A)\n",
    "\n",
    "  # Count the number of columns that do not contain a leading coefficient.\n",
    "  num_free_columns = 0\n",
    "  for i in range(A_row_echelon_form.shape[1]):\n",
    "    if np.all(A_row_echelon_form[:, i] == 0):\n",
    "      num_free_columns += 1\n",
    "\n",
    "  return num_free_columns\n",
    "\n",
    "# Create a matrix.\n",
    "A = np.array([[2, 1], [3, -1]])\n",
    "\n",
    "# Find the number of free columns in the matrix.\n",
    "num_free_columns = count_free_columns(A)\n",
    "\n",
    "# Print the result.\n",
    "print(num_free_columns)"
   ]
  },
  {
   "cell_type": "code",
   "execution_count": null,
   "id": "a6dfe9ad",
   "metadata": {},
   "outputs": [],
   "source": [
    "import numpy as np\n",
    "\n",
    "# Create a matrix.\n",
    "A = np.array([\n",
    "    [1, 2, 3], \n",
    "    [4, 5, 6], \n",
    "    [7, 8, 9]])\n",
    "\n",
    "# Calculate the rank of the matrix.\n",
    "rank = np.linalg.matrix_rank(A)\n",
    "# Print the rank of the matrix.\n",
    "print(rank)"
   ]
  },
  {
   "cell_type": "code",
   "execution_count": null,
   "id": "5cb623e7",
   "metadata": {},
   "outputs": [],
   "source": [
    "import numpy as np\n",
    "\n",
    "# Create a matrix.\n",
    "A = np.array([\n",
    "    [1, 2, 3], \n",
    "    [4, 5, 6], \n",
    "    [7, 8, 9]\n",
    "])\n",
    "\n",
    "# Calculate the eigenvalues and eigenvectors of the matrix.\n",
    "w, v = np.linalg.eig(A)\n",
    "\n",
    "# Print the eigenvalues and eigenvectors of the matrix.\n",
    "print(\"Eigenvalues:\", w)\n",
    "print(\"Eigenvectors:\", v)"
   ]
  },
  {
   "cell_type": "code",
   "execution_count": 42,
   "id": "ab370228",
   "metadata": {},
   "outputs": [
    {
     "name": "stdout",
     "output_type": "stream",
     "text": [
      "[5. 0.]\n"
     ]
    }
   ],
   "source": [
    "import numpy as np\n",
    "\n",
    "\n",
    "A = np.array([\n",
    "    [1, 2], \n",
    "    [2, 3]\n",
    "])\n",
    "b = np.array(\n",
    "    [5, 10]\n",
    ")\n",
    "\n",
    "x = np.linalg.solve(A, b)\n",
    "\n",
    "# Print the solution.\n",
    "print(x)\n"
   ]
  },
  {
   "cell_type": "code",
   "execution_count": 52,
   "id": "dfd4996a",
   "metadata": {},
   "outputs": [
    {
     "name": "stdout",
     "output_type": "stream",
     "text": [
      "[[1 2]\n",
      " [3 4]\n",
      " [5 6]]\n"
     ]
    }
   ],
   "source": [
    "a = [1,2,3,4,5,6]\n",
    "a = np.array(a).reshape(3,2)\n",
    "print(a)"
   ]
  },
  {
   "cell_type": "markdown",
   "id": "3080ffa7",
   "metadata": {},
   "source": [
    "# Regularization (L1 and L2)\n",
    "- https://www.analyticsvidhya.com/blog/2016/01/ridge-lasso-regression-python-complete-tutorial/#:~:text=Ridge%20and%20Lasso%20Regression%20are,hyperparameter%20tuning%20and%20cross%2Dvalidation."
   ]
  },
  {
   "cell_type": "code",
   "execution_count": null,
   "id": "d8ca79f0",
   "metadata": {},
   "outputs": [],
   "source": []
  }
 ],
 "metadata": {
  "kernelspec": {
   "display_name": "Python 3 (ipykernel)",
   "language": "python",
   "name": "python3"
  },
  "language_info": {
   "codemirror_mode": {
    "name": "ipython",
    "version": 3
   },
   "file_extension": ".py",
   "mimetype": "text/x-python",
   "name": "python",
   "nbconvert_exporter": "python",
   "pygments_lexer": "ipython3",
   "version": "3.10.12"
  }
 },
 "nbformat": 4,
 "nbformat_minor": 5
}
