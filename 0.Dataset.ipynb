{
  "nbformat": 4,
  "nbformat_minor": 0,
  "metadata": {
    "colab": {
      "name": "Dataset.ipynb",
      "provenance": [],
      "collapsed_sections": [],
      "mount_file_id": "1RqJ0epH2fvjlFn4PEqqs8iSlRD7SZ2Bb",
      "authorship_tag": "ABX9TyOyRGSeN8D03bBNH9wsYBzr",
      "include_colab_link": true
    },
    "kernelspec": {
      "name": "python3",
      "display_name": "Python 3"
    },
    "language_info": {
      "name": "python"
    },
    "widgets": {
      "application/vnd.jupyter.widget-state+json": {
        "57250d763f7c4dc9926e3cf1d679934e": {
          "model_module": "@jupyter-widgets/controls",
          "model_name": "HBoxModel",
          "model_module_version": "1.5.0",
          "state": {
            "_view_name": "HBoxView",
            "_dom_classes": [],
            "_model_name": "HBoxModel",
            "_view_module": "@jupyter-widgets/controls",
            "_model_module_version": "1.5.0",
            "_view_count": null,
            "_view_module_version": "1.5.0",
            "box_style": "",
            "layout": "IPY_MODEL_74bc92f01dfd454583c95316db2425e7",
            "_model_module": "@jupyter-widgets/controls",
            "children": [
              "IPY_MODEL_5f0f59227eff4bd7bdbfa46943aea8ff",
              "IPY_MODEL_98760a6023344eb287d9d7eb718999ca",
              "IPY_MODEL_afaa46ae79584923bf8ff2e726516482"
            ]
          }
        },
        "74bc92f01dfd454583c95316db2425e7": {
          "model_module": "@jupyter-widgets/base",
          "model_name": "LayoutModel",
          "model_module_version": "1.2.0",
          "state": {
            "_view_name": "LayoutView",
            "grid_template_rows": null,
            "right": null,
            "justify_content": null,
            "_view_module": "@jupyter-widgets/base",
            "overflow": null,
            "_model_module_version": "1.2.0",
            "_view_count": null,
            "flex_flow": null,
            "width": null,
            "min_width": null,
            "border": null,
            "align_items": null,
            "bottom": null,
            "_model_module": "@jupyter-widgets/base",
            "top": null,
            "grid_column": null,
            "overflow_y": null,
            "overflow_x": null,
            "grid_auto_flow": null,
            "grid_area": null,
            "grid_template_columns": null,
            "flex": null,
            "_model_name": "LayoutModel",
            "justify_items": null,
            "grid_row": null,
            "max_height": null,
            "align_content": null,
            "visibility": null,
            "align_self": null,
            "height": null,
            "min_height": null,
            "padding": null,
            "grid_auto_rows": null,
            "grid_gap": null,
            "max_width": null,
            "order": null,
            "_view_module_version": "1.2.0",
            "grid_template_areas": null,
            "object_position": null,
            "object_fit": null,
            "grid_auto_columns": null,
            "margin": null,
            "display": null,
            "left": null
          }
        },
        "5f0f59227eff4bd7bdbfa46943aea8ff": {
          "model_module": "@jupyter-widgets/controls",
          "model_name": "HTMLModel",
          "model_module_version": "1.5.0",
          "state": {
            "_view_name": "HTMLView",
            "style": "IPY_MODEL_f0709b112eeb4c8abd9cbb620106ade8",
            "_dom_classes": [],
            "description": "",
            "_model_name": "HTMLModel",
            "placeholder": "​",
            "_view_module": "@jupyter-widgets/controls",
            "_model_module_version": "1.5.0",
            "value": "100%",
            "_view_count": null,
            "_view_module_version": "1.5.0",
            "description_tooltip": null,
            "_model_module": "@jupyter-widgets/controls",
            "layout": "IPY_MODEL_224eda08b2ae45fcbf83b90333b9aa57"
          }
        },
        "98760a6023344eb287d9d7eb718999ca": {
          "model_module": "@jupyter-widgets/controls",
          "model_name": "FloatProgressModel",
          "model_module_version": "1.5.0",
          "state": {
            "_view_name": "ProgressView",
            "style": "IPY_MODEL_b93dc46f5b8e4d8bb80ffe2518156102",
            "_dom_classes": [],
            "description": "",
            "_model_name": "FloatProgressModel",
            "bar_style": "success",
            "max": 2,
            "_view_module": "@jupyter-widgets/controls",
            "_model_module_version": "1.5.0",
            "value": 2,
            "_view_count": null,
            "_view_module_version": "1.5.0",
            "orientation": "horizontal",
            "min": 0,
            "description_tooltip": null,
            "_model_module": "@jupyter-widgets/controls",
            "layout": "IPY_MODEL_0db4e9bca12a48b294c693c67ccfe467"
          }
        },
        "afaa46ae79584923bf8ff2e726516482": {
          "model_module": "@jupyter-widgets/controls",
          "model_name": "HTMLModel",
          "model_module_version": "1.5.0",
          "state": {
            "_view_name": "HTMLView",
            "style": "IPY_MODEL_079da75947434854b6f84f31d1e07801",
            "_dom_classes": [],
            "description": "",
            "_model_name": "HTMLModel",
            "placeholder": "​",
            "_view_module": "@jupyter-widgets/controls",
            "_model_module_version": "1.5.0",
            "value": " 2/2 [00:00&lt;00:00,  1.51it/s]",
            "_view_count": null,
            "_view_module_version": "1.5.0",
            "description_tooltip": null,
            "_model_module": "@jupyter-widgets/controls",
            "layout": "IPY_MODEL_e41abddb9f114804a40993d9bfcfb009"
          }
        },
        "f0709b112eeb4c8abd9cbb620106ade8": {
          "model_module": "@jupyter-widgets/controls",
          "model_name": "DescriptionStyleModel",
          "model_module_version": "1.5.0",
          "state": {
            "_view_name": "StyleView",
            "_model_name": "DescriptionStyleModel",
            "description_width": "",
            "_view_module": "@jupyter-widgets/base",
            "_model_module_version": "1.5.0",
            "_view_count": null,
            "_view_module_version": "1.2.0",
            "_model_module": "@jupyter-widgets/controls"
          }
        },
        "224eda08b2ae45fcbf83b90333b9aa57": {
          "model_module": "@jupyter-widgets/base",
          "model_name": "LayoutModel",
          "model_module_version": "1.2.0",
          "state": {
            "_view_name": "LayoutView",
            "grid_template_rows": null,
            "right": null,
            "justify_content": null,
            "_view_module": "@jupyter-widgets/base",
            "overflow": null,
            "_model_module_version": "1.2.0",
            "_view_count": null,
            "flex_flow": null,
            "width": null,
            "min_width": null,
            "border": null,
            "align_items": null,
            "bottom": null,
            "_model_module": "@jupyter-widgets/base",
            "top": null,
            "grid_column": null,
            "overflow_y": null,
            "overflow_x": null,
            "grid_auto_flow": null,
            "grid_area": null,
            "grid_template_columns": null,
            "flex": null,
            "_model_name": "LayoutModel",
            "justify_items": null,
            "grid_row": null,
            "max_height": null,
            "align_content": null,
            "visibility": null,
            "align_self": null,
            "height": null,
            "min_height": null,
            "padding": null,
            "grid_auto_rows": null,
            "grid_gap": null,
            "max_width": null,
            "order": null,
            "_view_module_version": "1.2.0",
            "grid_template_areas": null,
            "object_position": null,
            "object_fit": null,
            "grid_auto_columns": null,
            "margin": null,
            "display": null,
            "left": null
          }
        },
        "b93dc46f5b8e4d8bb80ffe2518156102": {
          "model_module": "@jupyter-widgets/controls",
          "model_name": "ProgressStyleModel",
          "model_module_version": "1.5.0",
          "state": {
            "_view_name": "StyleView",
            "_model_name": "ProgressStyleModel",
            "description_width": "",
            "_view_module": "@jupyter-widgets/base",
            "_model_module_version": "1.5.0",
            "_view_count": null,
            "_view_module_version": "1.2.0",
            "bar_color": null,
            "_model_module": "@jupyter-widgets/controls"
          }
        },
        "0db4e9bca12a48b294c693c67ccfe467": {
          "model_module": "@jupyter-widgets/base",
          "model_name": "LayoutModel",
          "model_module_version": "1.2.0",
          "state": {
            "_view_name": "LayoutView",
            "grid_template_rows": null,
            "right": null,
            "justify_content": null,
            "_view_module": "@jupyter-widgets/base",
            "overflow": null,
            "_model_module_version": "1.2.0",
            "_view_count": null,
            "flex_flow": null,
            "width": null,
            "min_width": null,
            "border": null,
            "align_items": null,
            "bottom": null,
            "_model_module": "@jupyter-widgets/base",
            "top": null,
            "grid_column": null,
            "overflow_y": null,
            "overflow_x": null,
            "grid_auto_flow": null,
            "grid_area": null,
            "grid_template_columns": null,
            "flex": null,
            "_model_name": "LayoutModel",
            "justify_items": null,
            "grid_row": null,
            "max_height": null,
            "align_content": null,
            "visibility": null,
            "align_self": null,
            "height": null,
            "min_height": null,
            "padding": null,
            "grid_auto_rows": null,
            "grid_gap": null,
            "max_width": null,
            "order": null,
            "_view_module_version": "1.2.0",
            "grid_template_areas": null,
            "object_position": null,
            "object_fit": null,
            "grid_auto_columns": null,
            "margin": null,
            "display": null,
            "left": null
          }
        },
        "079da75947434854b6f84f31d1e07801": {
          "model_module": "@jupyter-widgets/controls",
          "model_name": "DescriptionStyleModel",
          "model_module_version": "1.5.0",
          "state": {
            "_view_name": "StyleView",
            "_model_name": "DescriptionStyleModel",
            "description_width": "",
            "_view_module": "@jupyter-widgets/base",
            "_model_module_version": "1.5.0",
            "_view_count": null,
            "_view_module_version": "1.2.0",
            "_model_module": "@jupyter-widgets/controls"
          }
        },
        "e41abddb9f114804a40993d9bfcfb009": {
          "model_module": "@jupyter-widgets/base",
          "model_name": "LayoutModel",
          "model_module_version": "1.2.0",
          "state": {
            "_view_name": "LayoutView",
            "grid_template_rows": null,
            "right": null,
            "justify_content": null,
            "_view_module": "@jupyter-widgets/base",
            "overflow": null,
            "_model_module_version": "1.2.0",
            "_view_count": null,
            "flex_flow": null,
            "width": null,
            "min_width": null,
            "border": null,
            "align_items": null,
            "bottom": null,
            "_model_module": "@jupyter-widgets/base",
            "top": null,
            "grid_column": null,
            "overflow_y": null,
            "overflow_x": null,
            "grid_auto_flow": null,
            "grid_area": null,
            "grid_template_columns": null,
            "flex": null,
            "_model_name": "LayoutModel",
            "justify_items": null,
            "grid_row": null,
            "max_height": null,
            "align_content": null,
            "visibility": null,
            "align_self": null,
            "height": null,
            "min_height": null,
            "padding": null,
            "grid_auto_rows": null,
            "grid_gap": null,
            "max_width": null,
            "order": null,
            "_view_module_version": "1.2.0",
            "grid_template_areas": null,
            "object_position": null,
            "object_fit": null,
            "grid_auto_columns": null,
            "margin": null,
            "display": null,
            "left": null
          }
        }
      }
    }
  },
  "cells": [
    {
      "cell_type": "markdown",
      "metadata": {
        "id": "view-in-github",
        "colab_type": "text"
      },
      "source": [
        "<a href=\"https://colab.research.google.com/github/Darshan2104/PlayWithPytorch/blob/main/Dataset.ipynb\" target=\"_parent\"><img src=\"https://colab.research.google.com/assets/colab-badge.svg\" alt=\"Open In Colab\"/></a>"
      ]
    },
    {
      "cell_type": "code",
      "source": [
        "!pip install datasets"
      ],
      "metadata": {
        "colab": {
          "base_uri": "https://localhost:8080/"
        },
        "id": "FW5c12lgu7zV",
        "outputId": "4742f454-2c65-463d-cb22-be7b864e0ccf"
      },
      "execution_count": null,
      "outputs": [
        {
          "output_type": "stream",
          "name": "stdout",
          "text": [
            "Collecting datasets\n",
            "  Downloading datasets-1.17.0-py3-none-any.whl (306 kB)\n",
            "\u001b[?25l\r\u001b[K     |█                               | 10 kB 19.0 MB/s eta 0:00:01\r\u001b[K     |██▏                             | 20 kB 10.0 MB/s eta 0:00:01\r\u001b[K     |███▏                            | 30 kB 8.1 MB/s eta 0:00:01\r\u001b[K     |████▎                           | 40 kB 7.4 MB/s eta 0:00:01\r\u001b[K     |█████▍                          | 51 kB 4.3 MB/s eta 0:00:01\r\u001b[K     |██████▍                         | 61 kB 4.5 MB/s eta 0:00:01\r\u001b[K     |███████▌                        | 71 kB 4.4 MB/s eta 0:00:01\r\u001b[K     |████████▋                       | 81 kB 4.9 MB/s eta 0:00:01\r\u001b[K     |█████████▋                      | 92 kB 5.2 MB/s eta 0:00:01\r\u001b[K     |██████████▊                     | 102 kB 4.3 MB/s eta 0:00:01\r\u001b[K     |███████████▊                    | 112 kB 4.3 MB/s eta 0:00:01\r\u001b[K     |████████████▉                   | 122 kB 4.3 MB/s eta 0:00:01\r\u001b[K     |██████████████                  | 133 kB 4.3 MB/s eta 0:00:01\r\u001b[K     |███████████████                 | 143 kB 4.3 MB/s eta 0:00:01\r\u001b[K     |████████████████                | 153 kB 4.3 MB/s eta 0:00:01\r\u001b[K     |█████████████████▏              | 163 kB 4.3 MB/s eta 0:00:01\r\u001b[K     |██████████████████▏             | 174 kB 4.3 MB/s eta 0:00:01\r\u001b[K     |███████████████████▎            | 184 kB 4.3 MB/s eta 0:00:01\r\u001b[K     |████████████████████▎           | 194 kB 4.3 MB/s eta 0:00:01\r\u001b[K     |█████████████████████▍          | 204 kB 4.3 MB/s eta 0:00:01\r\u001b[K     |██████████████████████▌         | 215 kB 4.3 MB/s eta 0:00:01\r\u001b[K     |███████████████████████▌        | 225 kB 4.3 MB/s eta 0:00:01\r\u001b[K     |████████████████████████▋       | 235 kB 4.3 MB/s eta 0:00:01\r\u001b[K     |█████████████████████████▊      | 245 kB 4.3 MB/s eta 0:00:01\r\u001b[K     |██████████████████████████▊     | 256 kB 4.3 MB/s eta 0:00:01\r\u001b[K     |███████████████████████████▉    | 266 kB 4.3 MB/s eta 0:00:01\r\u001b[K     |████████████████████████████▉   | 276 kB 4.3 MB/s eta 0:00:01\r\u001b[K     |██████████████████████████████  | 286 kB 4.3 MB/s eta 0:00:01\r\u001b[K     |███████████████████████████████ | 296 kB 4.3 MB/s eta 0:00:01\r\u001b[K     |████████████████████████████████| 306 kB 4.3 MB/s \n",
            "\u001b[?25hRequirement already satisfied: numpy>=1.17 in /usr/local/lib/python3.7/dist-packages (from datasets) (1.19.5)\n",
            "Collecting xxhash\n",
            "  Downloading xxhash-2.0.2-cp37-cp37m-manylinux2010_x86_64.whl (243 kB)\n",
            "\u001b[K     |████████████████████████████████| 243 kB 52.9 MB/s \n",
            "\u001b[?25hRequirement already satisfied: tqdm>=4.62.1 in /usr/local/lib/python3.7/dist-packages (from datasets) (4.62.3)\n",
            "Requirement already satisfied: multiprocess in /usr/local/lib/python3.7/dist-packages (from datasets) (0.70.12.2)\n",
            "Requirement already satisfied: requests>=2.19.0 in /usr/local/lib/python3.7/dist-packages (from datasets) (2.23.0)\n",
            "Requirement already satisfied: pyarrow!=4.0.0,>=3.0.0 in /usr/local/lib/python3.7/dist-packages (from datasets) (3.0.0)\n",
            "Collecting aiohttp\n",
            "  Downloading aiohttp-3.8.1-cp37-cp37m-manylinux_2_5_x86_64.manylinux1_x86_64.manylinux_2_12_x86_64.manylinux2010_x86_64.whl (1.1 MB)\n",
            "\u001b[K     |████████████████████████████████| 1.1 MB 60.3 MB/s \n",
            "\u001b[?25hRequirement already satisfied: importlib-metadata in /usr/local/lib/python3.7/dist-packages (from datasets) (4.8.2)\n",
            "Requirement already satisfied: packaging in /usr/local/lib/python3.7/dist-packages (from datasets) (21.3)\n",
            "Requirement already satisfied: pandas in /usr/local/lib/python3.7/dist-packages (from datasets) (1.1.5)\n",
            "Collecting huggingface-hub<1.0.0,>=0.1.0\n",
            "  Downloading huggingface_hub-0.2.1-py3-none-any.whl (61 kB)\n",
            "\u001b[K     |████████████████████████████████| 61 kB 431 kB/s \n",
            "\u001b[?25hCollecting fsspec[http]>=2021.05.0\n",
            "  Downloading fsspec-2021.11.1-py3-none-any.whl (132 kB)\n",
            "\u001b[K     |████████████████████████████████| 132 kB 69.2 MB/s \n",
            "\u001b[?25hRequirement already satisfied: dill in /usr/local/lib/python3.7/dist-packages (from datasets) (0.3.4)\n",
            "Requirement already satisfied: pyyaml in /usr/local/lib/python3.7/dist-packages (from huggingface-hub<1.0.0,>=0.1.0->datasets) (3.13)\n",
            "Requirement already satisfied: typing-extensions>=3.7.4.3 in /usr/local/lib/python3.7/dist-packages (from huggingface-hub<1.0.0,>=0.1.0->datasets) (3.10.0.2)\n",
            "Requirement already satisfied: filelock in /usr/local/lib/python3.7/dist-packages (from huggingface-hub<1.0.0,>=0.1.0->datasets) (3.4.0)\n",
            "Requirement already satisfied: pyparsing!=3.0.5,>=2.0.2 in /usr/local/lib/python3.7/dist-packages (from packaging->datasets) (3.0.6)\n",
            "Requirement already satisfied: urllib3!=1.25.0,!=1.25.1,<1.26,>=1.21.1 in /usr/local/lib/python3.7/dist-packages (from requests>=2.19.0->datasets) (1.24.3)\n",
            "Requirement already satisfied: certifi>=2017.4.17 in /usr/local/lib/python3.7/dist-packages (from requests>=2.19.0->datasets) (2021.10.8)\n",
            "Requirement already satisfied: idna<3,>=2.5 in /usr/local/lib/python3.7/dist-packages (from requests>=2.19.0->datasets) (2.10)\n",
            "Requirement already satisfied: chardet<4,>=3.0.2 in /usr/local/lib/python3.7/dist-packages (from requests>=2.19.0->datasets) (3.0.4)\n",
            "Collecting yarl<2.0,>=1.0\n",
            "  Downloading yarl-1.7.2-cp37-cp37m-manylinux_2_5_x86_64.manylinux1_x86_64.manylinux_2_12_x86_64.manylinux2010_x86_64.whl (271 kB)\n",
            "\u001b[K     |████████████████████████████████| 271 kB 56.8 MB/s \n",
            "\u001b[?25hRequirement already satisfied: attrs>=17.3.0 in /usr/local/lib/python3.7/dist-packages (from aiohttp->datasets) (21.2.0)\n",
            "Collecting frozenlist>=1.1.1\n",
            "  Downloading frozenlist-1.2.0-cp37-cp37m-manylinux_2_5_x86_64.manylinux1_x86_64.manylinux_2_12_x86_64.manylinux2010_x86_64.whl (192 kB)\n",
            "\u001b[K     |████████████████████████████████| 192 kB 49.0 MB/s \n",
            "\u001b[?25hCollecting multidict<7.0,>=4.5\n",
            "  Downloading multidict-5.2.0-cp37-cp37m-manylinux_2_5_x86_64.manylinux1_x86_64.manylinux_2_12_x86_64.manylinux2010_x86_64.whl (160 kB)\n",
            "\u001b[K     |████████████████████████████████| 160 kB 51.8 MB/s \n",
            "\u001b[?25hCollecting aiosignal>=1.1.2\n",
            "  Downloading aiosignal-1.2.0-py3-none-any.whl (8.2 kB)\n",
            "Collecting async-timeout<5.0,>=4.0.0a3\n",
            "  Downloading async_timeout-4.0.2-py3-none-any.whl (5.8 kB)\n",
            "Collecting asynctest==0.13.0\n",
            "  Downloading asynctest-0.13.0-py3-none-any.whl (26 kB)\n",
            "Requirement already satisfied: charset-normalizer<3.0,>=2.0 in /usr/local/lib/python3.7/dist-packages (from aiohttp->datasets) (2.0.8)\n",
            "Requirement already satisfied: zipp>=0.5 in /usr/local/lib/python3.7/dist-packages (from importlib-metadata->datasets) (3.6.0)\n",
            "Requirement already satisfied: python-dateutil>=2.7.3 in /usr/local/lib/python3.7/dist-packages (from pandas->datasets) (2.8.2)\n",
            "Requirement already satisfied: pytz>=2017.2 in /usr/local/lib/python3.7/dist-packages (from pandas->datasets) (2018.9)\n",
            "Requirement already satisfied: six>=1.5 in /usr/local/lib/python3.7/dist-packages (from python-dateutil>=2.7.3->pandas->datasets) (1.15.0)\n",
            "Installing collected packages: multidict, frozenlist, yarl, asynctest, async-timeout, aiosignal, fsspec, aiohttp, xxhash, huggingface-hub, datasets\n",
            "Successfully installed aiohttp-3.8.1 aiosignal-1.2.0 async-timeout-4.0.2 asynctest-0.13.0 datasets-1.17.0 frozenlist-1.2.0 fsspec-2021.11.1 huggingface-hub-0.2.1 multidict-5.2.0 xxhash-2.0.2 yarl-1.7.2\n"
          ]
        }
      ]
    },
    {
      "cell_type": "code",
      "execution_count": null,
      "metadata": {
        "colab": {
          "base_uri": "https://localhost:8080/",
          "height": 118,
          "referenced_widgets": [
            "57250d763f7c4dc9926e3cf1d679934e",
            "74bc92f01dfd454583c95316db2425e7",
            "5f0f59227eff4bd7bdbfa46943aea8ff",
            "98760a6023344eb287d9d7eb718999ca",
            "afaa46ae79584923bf8ff2e726516482",
            "f0709b112eeb4c8abd9cbb620106ade8",
            "224eda08b2ae45fcbf83b90333b9aa57",
            "b93dc46f5b8e4d8bb80ffe2518156102",
            "0db4e9bca12a48b294c693c67ccfe467",
            "079da75947434854b6f84f31d1e07801",
            "e41abddb9f114804a40993d9bfcfb009"
          ]
        },
        "id": "3El6bJ79uqNN",
        "outputId": "d8bbbeb5-db8b-4c62-e00b-8cbf60425726"
      },
      "outputs": [
        {
          "output_type": "stream",
          "name": "stdout",
          "text": [
            "2377\n"
          ]
        },
        {
          "output_type": "stream",
          "name": "stderr",
          "text": [
            "Reusing dataset mc4 (/root/.cache/huggingface/datasets/mc4/gu/0.0.0/a2bc8f2c4d913b8b16fac4d1a63d673fa6cb22859520dcac7f193feec1f00cae)\n"
          ]
        },
        {
          "output_type": "display_data",
          "data": {
            "application/vnd.jupyter.widget-view+json": {
              "model_id": "57250d763f7c4dc9926e3cf1d679934e",
              "version_minor": 0,
              "version_major": 2
            },
            "text/plain": [
              "  0%|          | 0/2 [00:00<?, ?it/s]"
            ]
          },
          "metadata": {}
        },
        {
          "output_type": "stream",
          "name": "stderr",
          "text": [
            "Reusing dataset mc4 (/root/.cache/huggingface/datasets/mc4/gu/0.0.0/a2bc8f2c4d913b8b16fac4d1a63d673fa6cb22859520dcac7f193feec1f00cae)\n",
            "Reusing dataset mc4 (/root/.cache/huggingface/datasets/mc4/gu/0.0.0/a2bc8f2c4d913b8b16fac4d1a63d673fa6cb22859520dcac7f193feec1f00cae)\n"
          ]
        }
      ],
      "source": [
        "# All credits goes to Huggingface :)\n",
        "\n",
        "from datasets import load_dataset\n",
        "from datasets import list_datasets\n",
        "\n",
        "dataset_list = list_datasets()\n",
        "print(len(dataset_list))\n",
        "# for a in dataset_list:\n",
        "  # print(a)\n",
        "gu_mc4 = load_dataset(\"mc4\",\"gu\")\n",
        "gu_mc4_train = load_dataset(\"mc4\",\"gu\",split='train')\n",
        "gu_mc4_valid = load_dataset(\"mc4\",\"gu\",split='validation')\n",
        "\n"
      ]
    },
    {
      "cell_type": "code",
      "source": [
        "print(gu_mc4)\n",
        "print(f'length of train :{len(gu_mc4_train)}')\n",
        "print(f'length of valid :{len(gu_mc4_valid)}')\n",
        "\n",
        "print('\\n')\n",
        "\n",
        "print(gu_mc4_valid[0])"
      ],
      "metadata": {
        "colab": {
          "base_uri": "https://localhost:8080/"
        },
        "id": "UbKYz_Whw3zc",
        "outputId": "fa99ad1a-ce8b-44ae-eed7-ed10bb4dd472"
      },
      "execution_count": null,
      "outputs": [
        {
          "output_type": "stream",
          "name": "stdout",
          "text": [
            "DatasetDict({\n",
            "    train: Dataset({\n",
            "        features: ['text', 'timestamp', 'url'],\n",
            "        num_rows: 631600\n",
            "    })\n",
            "    validation: Dataset({\n",
            "        features: ['text', 'timestamp', 'url'],\n",
            "        num_rows: 651\n",
            "    })\n",
            "})\n",
            "length of train :631600\n",
            "length of valid :651\n",
            "\n",
            "\n",
            "{'text': 'મુખ્યમંત્રી વિજય રૂપાણી આવતીકાલ તા.૧૯ ઓક્ટોબરથી પાંચ દિવસ માટે ઉઝબેકિસ્તાનના પ્રવાસે ઉચ્ચસ્તરિય ડેલિગેશન સાથે જઈ રહ્યા છે. મુખ્યમંત્રીને ઉઝબેકિસ્તાનમાં પ્રથમવાર યોજાઇ રહેલા ઇન્ટરનેશનલ ફોરમ અંતર્ગત ‘ઓપન એન્ડિજાન’ના ઉદઘાટન સત્રમાં ઉપસ્થિત રહેવા ઉઝબેકિસ્તાને આપેલા નિમંત્રણનો સ્વીકાર કરી તેઓ આ ફોરમમાં સહભાગી થવાના છે.\\nરૂપાણી તેમના આ પાંચ દિવસીય પ્રવાસ દરમિયાન ઉઝબેકિસ્તાનના રાષ્ટ્રપ્રમુખ તેમજ એન્ડિજાન પ્રદેશના ગવર્નર તથા સમરકંદ અને બુખારાના ગવર્નરો તેમજ તાશ્કંદ શહેરના મેયર સાથે વન-ટુ-વન બેઠક યોજશે. તેઓ આ પ્રવાસ દરમિયાન એન્ડિજાન સમરકંદ, બુખારા અને તાશ્કંદમાં યોજાનારા બિઝનેસ ફોરમમાં પણ ગુજરાત ડેલિગેશન સાથે સહભાગી થવાના છે. મુખ્યમંત્રી સાથે ઉઝબેકિસ્તાનના પ્રવાસે જઇ રહેલા પ્રતિનિધિ મંડળમાં રાજ્યના ડાયમંડ, જેમ્સ એન્ડ જ્વેલરી, હોસ્પિટાલિટી, ફાર્માસ્યુટિકલ એન્ડ હેલ્થ કેર, એગ્રો એન્ડ ફુડ પ્રોસેસિંગ, ડેરી, ટેક્સટાઇલ વગેરે ક્ષેત્રના અગ્રણી ઉદ્યોગકારો અને પ્રગતિશીલ ખેડૂતો પણ જોડાવાના છે.\\nઆવતીકાલે તા.19મી નવે.ની વહેલી સવારે રૂપાણી, સિનિયર અધિકારીઓ અને બિઝનેશ ડેલિગેશન અમદાવાદથી પ્રસ્થાન કરીને એન્ડિજાન પહોંચશે. જ્યાં આયોજિત ઇન્ટરનેશનલ ઇન્વેસ્ટમેન્ટ ફોરમ ઓપન એન્ડિજાનના ઉદઘાટન સમારોહમાં જોડાશે. એન્ડિજાન શહેરમાં એક સ્ટ્રીટનું લોહપુરુષ સરદાર પટેલ નામાભિધાન કરવામાં આવ્યું છે તેનું ઉદઘાટન તેમજ સરદાર સાહેબની પ્રતિમાનું અનાવરણ પણ રૂપાણીના હસ્તે કરાશે.\\nમુખ્યમંત્રી ઇન્ડિયા ઉઝબેકિસ્તાનના ફ્રી ફાર્માસ્યુટિકલ ઝોનની મુલાકાત લેશે અને ત્યાં કેડિલા ફાર્માનું ઉદઘાટન કરવાના છે. તેઓ ફિક્કી વિમેન્સ ઓર્ગેનાઇઝેશન આયોજિત વુમન સબ કમિટીની બેઠકમાં સંબોધન કરશે અને રૂપિયા ર કરોડના ખર્ચે નિર્માણ થયેલી શારદા યુનિવર્સિટીનું ઉદઘાટન કરશે. મુખ્યમંત્રી તેમના પ્રવાસના બીજા દિવસે સમરકંદના ગવર્નર સાથે મુલાકાત કરશે અને ઉદ્યોગ, વેપારીઓ સાથે વાર્તાલાપ કરીને સમરકંદ સ્ટેટ યુનિવર્સિટીમાં ઇન્ડિયા સ્ટડી સેન્ટરની મુલાકાત પણ લેશે\\nરૂપાણી ૨૧મી ઓક્ટોબરે પ્રવાસના ત્રીજા દિવસે બુખારાના ગવર્નર સાથે બેઠક કરશે અને ઉઝબેકિસ્તાન ચેમ્બર ઓફ કોમર્સ આયોજિત બી-ટુ-બી મીટિંગમાં સહભાગી થશે. તેઓ બુખારાના ઐતિહાસિક કેન્દ્રમાં ટુરિઝમ પ્રોજેક્ટ, ટુરિઝમ ઝોન અને ટુરિઝમ ઇકોસિસ્ટમની પણ નિરીક્ષણ મુલાકાત કરશે.\\nમુખ્યમંત્રી ૨૨ ઓક્ટોબરે તાશ્કંદની મુલાકાતે જશે અને પૂર્વ પ્રધાનમંત્રી સ્વ.લાલ બહાદુર શાસ્ત્રી મેમોરિયલ ખાતે જઇને પુષ્પાંજલિ અર્પણ કરશે અને મ્યુઝિયમની મુલાકાત કરશે. ત્યારબાદ શાસ્ત્રી સ્કૂલની મુલાકાત લઇને બાળકો સાથે સંવાદ કરશે. રૂપાણી તાશ્કંદના મેયર સાથે સૌજન્ય મુલાકાત બેઠક યોજશે અને બી-ટુ-બી બેઠકમાં ઉપસ્થિત રહેવાના છે. મહાત્મા ગાંધીજીની ૧૫૦મી જન્મજયંતીના ઉપલક્ષ્યમાં ઉઝબેકિસ્તાનમાં આયોજીત મહાત્મા ગાંધી પ્રદર્શનનું ઉદઘાટન પણ કરશે તેમજ તાશ્કંદની AMITY યુનિવર્સિટી કેમ્પસની મુલાકાતે જશે\\nતેઓ તાશ્કંદ-ઉઝબેકિસ્તાનમાં વસવાટ કરી રહેલા ગુજરાતી સમુદાયો સાથે ભોજન સહ બેઠકમાં ગુજરાતની વિકાસ ગાથાની પ્રભાવક પ્રસ્તુતિ કરવાના છે.મુખ્યમંત્રી તેમના ઉઝબેકિસ્તાન પ્રવાસના અંતિમ દિવસે તા. ૨૩ ઓક્ટોબરે ઉઝબેકિસ્તાનના રાષ્ટ્રપ્રમુખ શ્રીયુત સવકત મીરઝી યોવેવ સાથે બેઠક યોજાશે અને બપોર બાદ ગુજરાત પરત આવશે.', 'timestamp': '2019-11-22T14:40:41Z', 'url': 'https://gujaratmitra.co.in/%E0%AB%A7%E0%AB%AF-%E0%AA%93%E0%AA%95%E0%AB%8D%E0%AA%9F%E0%AB%8B%E0%AA%AC%E0%AA%B0%E0%AA%A5%E0%AB%80-%E0%AA%AE%E0%AB%81%E0%AA%96%E0%AB%8D%E0%AA%AF%E0%AA%AE%E0%AA%82%E0%AA%A4%E0%AB%8D%E0%AA%B0%E0%AB%80/'}\n"
          ]
        }
      ]
    },
    {
      "cell_type": "code",
      "source": [
        "# Just playing with code :) \n",
        "\n",
        "# print(type(gu_mc4_valid))\n",
        "# print(gu_mc4_valid)\n",
        "# valid_feature = gu_mc4_valid[0]\n",
        "# print(valid_feature['text'])"
      ],
      "metadata": {
        "id": "jt8mNwk42yNV"
      },
      "execution_count": null,
      "outputs": []
    },
    {
      "cell_type": "code",
      "source": [
        "import csv\n",
        "\n",
        "# For Validation\n",
        "f = open('/content/drive/MyDrive/Colab Notebooks/Valid_Guj.csv', 'w')\n",
        "\n",
        "field_name = ['text','timestamp','url']\n",
        "\n",
        "with f as csvfile:\n",
        "  writer = csv.DictWriter(csvfile, fieldnames = field_name)\n",
        "  writer.writeheader()\n",
        "  writer.writerows(gu_mc4_valid)\n",
        "\n",
        "\n",
        "# For Training\n",
        "\n",
        "with open('/content/drive/MyDrive/Colab Notebooks/Train_Guj.csv','w') as csvfile:\n",
        "  writer = csv.DictWriter(csvfile, fieldnames = field_name)  \n",
        "  writer.writeheader()\n",
        "  writer.writerows(gu_mc4_train)\n",
        "\n"
      ],
      "metadata": {
        "id": "MJbTjCEqu0ix"
      },
      "execution_count": null,
      "outputs": []
    },
    {
      "cell_type": "code",
      "source": [
        "import pandas as pd\n",
        "\n",
        "df = pd.read_csv('/content/drive/MyDrive/Colab Notebooks/Valid_Guj.csv')\n",
        "df1 = pd.read_csv('/content/drive/MyDrive/Colab Notebooks/Train_Guj.csv')\n",
        "\n",
        "# df['text'][0]\n",
        "df.info()\n",
        "df1.info()"
      ],
      "metadata": {
        "colab": {
          "base_uri": "https://localhost:8080/"
        },
        "id": "B6Ehp39gFJYA",
        "outputId": "756365e5-0f72-4194-88e0-74f0786faa4d"
      },
      "execution_count": null,
      "outputs": [
        {
          "output_type": "stream",
          "name": "stdout",
          "text": [
            "<class 'pandas.core.frame.DataFrame'>\n",
            "RangeIndex: 651 entries, 0 to 650\n",
            "Data columns (total 3 columns):\n",
            " #   Column     Non-Null Count  Dtype \n",
            "---  ------     --------------  ----- \n",
            " 0   text       651 non-null    object\n",
            " 1   timestamp  651 non-null    object\n",
            " 2   url        651 non-null    object\n",
            "dtypes: object(3)\n",
            "memory usage: 15.4+ KB\n",
            "<class 'pandas.core.frame.DataFrame'>\n",
            "RangeIndex: 631600 entries, 0 to 631599\n",
            "Data columns (total 3 columns):\n",
            " #   Column     Non-Null Count   Dtype \n",
            "---  ------     --------------   ----- \n",
            " 0   text       631600 non-null  object\n",
            " 1   timestamp  631600 non-null  object\n",
            " 2   url        631600 non-null  object\n",
            "dtypes: object(3)\n",
            "memory usage: 14.5+ MB\n"
          ]
        }
      ]
    }
  ]
}
