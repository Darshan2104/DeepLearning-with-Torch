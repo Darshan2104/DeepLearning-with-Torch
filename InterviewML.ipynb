{
 "cells": [
  {
   "cell_type": "markdown",
   "id": "1207fef6-2737-405b-98fa-52e901bab62c",
   "metadata": {},
   "source": [
    "## Write a Python function to detect outliers in a dataset using the IQR method."
   ]
  },
  {
   "cell_type": "code",
   "execution_count": 1,
   "id": "bb8b4ee4-5e99-49b5-9082-fc14bdd126fb",
   "metadata": {},
   "outputs": [
    {
     "name": "stdout",
     "output_type": "stream",
     "text": [
      "Outliers: [100, 105]\n"
     ]
    }
   ],
   "source": [
    "def detect_outliers_iqr(data):\n",
    "    if not data:\n",
    "        return []\n",
    "\n",
    "    sorted_data = sorted(data)\n",
    "    n = len(sorted_data)\n",
    "\n",
    "    # Calculate Q1 and Q3\n",
    "    q1 = sorted_data[n // 4]\n",
    "    q3 = sorted_data[3 * n // 4]\n",
    "\n",
    "    # Calculate IQR\n",
    "    iqr = q3 - q1\n",
    "\n",
    "    # Define bounds\n",
    "    lower_bound = q1 - 1.5 * iqr\n",
    "    upper_bound = q3 + 1.5 * iqr\n",
    "\n",
    "    # Identify outliers\n",
    "    outliers = [x for x in data if x < lower_bound or x > upper_bound]\n",
    "    return outliers\n",
    "\n",
    "data = [10, 12, 14, 15, 18, 21, 22, 100, 105]\n",
    "outliers = detect_outliers_iqr(data)\n",
    "print(\"Outliers:\", outliers)\n"
   ]
  },
  {
   "cell_type": "markdown",
   "id": "45cd4d4b-4497-4507-95e0-833e6a5b95e9",
   "metadata": {},
   "source": [
    "## You have two DataFrames: clicks and installs. Merge them and calculate the install-to-click ratio per campaign.\n",
    "\n",
    "```\n",
    "✅ Assumptions:\n",
    "clicks DataFrame has columns: user_id, campaign_id, timestamp\n",
    "installs DataFrame has columns: user_id, campaign_id, timestamp\n",
    "```\n",
    "\n",
    "\n"
   ]
  },
  {
   "cell_type": "code",
   "execution_count": null,
   "id": "21f5f2b9-ad29-44e8-bb22-101e4317c02d",
   "metadata": {},
   "outputs": [],
   "source": [
    "import pandas as pd\n",
    "\n",
    "# Example clicks DataFrame\n",
    "# clicks = pd.DataFrame({'user_id': [...], 'campaign_id': [...], 'timestamp': [...]})\n",
    "# installs = pd.DataFrame({'user_id': [...], 'campaign_id': [...], 'timestamp': [...]})\n",
    "\n",
    "# Step 1: Count clicks per campaign\n",
    "click_counts = clicks.groupby('campaign_id').size().reset_index(name='clicks')\n",
    "\n",
    "# Step 2: Count installs per campaign\n",
    "install_counts = installs.groupby('campaign_id').size().reset_index(name='installs')\n",
    "\n",
    "# Step 3: Merge both counts on campaign_id\n",
    "merged = pd.merge(click_counts, install_counts, on='campaign_id', how='left')\n",
    "\n",
    "# Fill NaN installs with 0 (i.e., campaigns that got clicks but no installs)\n",
    "merged['installs'] = merged['installs'].fillna(0)\n",
    "\n",
    "# Step 4: Calculate install-to-click ratio\n",
    "merged['install_to_click_ratio'] = merged['installs'] / merged['clicks']\n",
    "\n",
    "# Optional: Round for readability\n",
    "merged['install_to_click_ratio'] = merged['install_to_click_ratio'].round(4)\n",
    "\n",
    "print(merged)\n"
   ]
  },
  {
   "cell_type": "markdown",
   "id": "275bfd07-da93-4128-8fa5-577f000a05eb",
   "metadata": {},
   "source": []
  }
 ],
 "metadata": {
  "kernelspec": {
   "display_name": "Python 3 (ipykernel)",
   "language": "python",
   "name": "python3"
  },
  "language_info": {
   "codemirror_mode": {
    "name": "ipython",
    "version": 3
   },
   "file_extension": ".py",
   "mimetype": "text/x-python",
   "name": "python",
   "nbconvert_exporter": "python",
   "pygments_lexer": "ipython3",
   "version": "3.12.0"
  }
 },
 "nbformat": 4,
 "nbformat_minor": 5
}
